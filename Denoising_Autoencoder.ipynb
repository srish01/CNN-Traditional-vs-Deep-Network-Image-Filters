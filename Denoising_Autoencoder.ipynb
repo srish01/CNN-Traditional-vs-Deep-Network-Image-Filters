{
 "cells": [
  {
   "cell_type": "code",
   "execution_count": 1,
   "metadata": {
    "colab": {
     "base_uri": "https://localhost:8080/",
     "height": 34
    },
    "colab_type": "code",
    "id": "8PxMb-cOimvL",
    "outputId": "4257b466-0ffb-4f09-9081-a5c6d3bc0754"
   },
   "outputs": [
    {
     "name": "stderr",
     "output_type": "stream",
     "text": [
      "Using TensorFlow backend.\n"
     ]
    }
   ],
   "source": [
    "from sklearn import metrics\n",
    "import numpy as np\n",
    "import pandas as pd\n",
    "import matplotlib.pyplot as plt\n",
    "import tensorflow as tf\n",
    "from tensorflow.keras.datasets import mnist\n",
    "from tensorflow.keras.models import Sequential\n",
    "from tensorflow.keras.layers import Conv2D, MaxPooling2D, UpSampling2D\n",
    "from keras import optimizers\n",
    "import random\n",
    "from skimage import measure\n",
    "from skimage import util \n",
    "from skimage.util import random_noise"
   ]
  },
  {
   "cell_type": "code",
   "execution_count": 2,
   "metadata": {
    "colab": {
     "base_uri": "https://localhost:8080/",
     "height": 84
    },
    "colab_type": "code",
    "id": "KsOl7JeYivOb",
    "outputId": "4412deab-4d70-40b9-c343-585d99be8280"
   },
   "outputs": [
    {
     "name": "stdout",
     "output_type": "stream",
     "text": [
      "Downloading data from https://storage.googleapis.com/tensorflow/tf-keras-datasets/mnist.npz\n",
      "11493376/11490434 [==============================] - 0s 0us/step\n",
      "(60000, 28, 28)\n",
      "(10000, 28, 28)\n"
     ]
    }
   ],
   "source": [
    " # We do not require the ground truth labelled data, hence not loading the y labels neither fro training nor for testing\n",
    "    \n",
    "(x_trainb,_), (x_testb,_) = mnist.load_data()\n",
    "\n",
    "print(x_trainb.shape)\n",
    "print(x_testb.shape)"
   ]
  },
  {
   "cell_type": "code",
   "execution_count": 0,
   "metadata": {
    "colab": {},
    "colab_type": "code",
    "id": "dHPnCc4V8aRr"
   },
   "outputs": [],
   "source": [
    "# taking inversion of mnist images\n",
    "x_train = util.invert(x_trainb)\n",
    "x_test = util.invert(x_testb)"
   ]
  },
  {
   "cell_type": "code",
   "execution_count": 0,
   "metadata": {
    "colab": {},
    "colab_type": "code",
    "id": "ASaUH2FUizKH"
   },
   "outputs": [],
   "source": [
    "# Normalizing the pixel value between [0, 1]\n",
    "\n",
    "x_train = x_train.astype('float32') / 255.\n",
    "x_test = x_test.astype('float32') /255.\n",
    "\n",
    "# Reshaping the images \n",
    "\n",
    "x_train = np.reshape(x_train, (len(x_train), 28, 28, 1))\n",
    "x_test = np.reshape(x_test, (len(x_test), 28, 28, 1))\n"
   ]
  },
  {
   "cell_type": "code",
   "execution_count": 6,
   "metadata": {
    "colab": {
     "base_uri": "https://localhost:8080/",
     "height": 54
    },
    "colab_type": "code",
    "id": "u1nFSI4uoyPM",
    "outputId": "40382b8b-c1bb-4029-f415-e78d2c879afd"
   },
   "outputs": [
    {
     "data": {
      "text/plain": [
       "'def sp_noise(x_img,prob):\\n    x_noise = np.zeros(x_img.shape,np.uint8)\\n    thres = 1 - prob \\n    for i in range(x_img.shape[0]):\\n        for j in range(x_img.shape[1]):\\n            rdn = random.random()\\n            if rdn < prob:\\n                x_noise[i][j] = 0.0\\n            elif rdn > thres:\\n                x_noise[i][j] = 255.0\\n            else:\\n                x_noise[i][j] = x_img[i][j]\\n    return x_noise'"
      ]
     },
     "execution_count": 6,
     "metadata": {
      "tags": []
     },
     "output_type": "execute_result"
    }
   ],
   "source": [
    "# Creating function for gaussian noise\n",
    "def gaussian_noise(image,mean,variance):\n",
    "    img_noisy = image +  0.5 * np.random.normal(loc=mean, scale=variance, size = image.shape)\n",
    "    return img_noisy\n",
    "\n",
    "# Creating function for poisson noise\n",
    "def poisson(image):\n",
    "    p_noise = np.random.poisson(image)\n",
    "    return p_noise\n",
    "\n",
    "# Creating function for salt and paper noise\n",
    "\n",
    "'''def sp_noise(x_img,prob):\n",
    "    x_noise = np.zeros(x_img.shape,np.uint8)\n",
    "    thres = 1 - prob \n",
    "    for i in range(x_img.shape[0]):\n",
    "        for j in range(x_img.shape[1]):\n",
    "            rdn = random.random()\n",
    "            if rdn < prob:\n",
    "                x_noise[i][j] = 0.0\n",
    "            elif rdn > thres:\n",
    "                x_noise[i][j] = 255.0\n",
    "            else:\n",
    "                x_noise[i][j] = x_img[i][j]\n",
    "    return x_noise'''\n",
    "\n",
    "    "
   ]
  },
  {
   "cell_type": "code",
   "execution_count": 0,
   "metadata": {
    "colab": {},
    "colab_type": "code",
    "id": "U0oLf8TepMkU"
   },
   "outputs": [],
   "source": [
    "x_train_1 = x_train[0:20000]\n",
    "x_train_2 = x_train[20000:40000]\n",
    "x_train_3 = x_train[40000:60000]"
   ]
  },
  {
   "cell_type": "code",
   "execution_count": 0,
   "metadata": {
    "colab": {},
    "colab_type": "code",
    "id": "iwTW-g62KxXz"
   },
   "outputs": [],
   "source": []
  },
  {
   "cell_type": "code",
   "execution_count": 0,
   "metadata": {
    "colab": {},
    "colab_type": "code",
    "id": "4LiMqc3dpjpQ"
   },
   "outputs": [],
   "source": [
    "# Creating MNIST training images with Gaussian, Poisson and SnP noises\n",
    "\n",
    "noise_mask = np.zeros(x_train_2.shape)\n",
    "\n",
    "x_train_noise_G = []\n",
    "x_train_noise_P = np.zeros(x_train_2.shape)\n",
    "x_train_noise_SnP = np.zeros(x_train_3.shape)\n",
    "\n",
    "for i in range(len(x_train_1)):\n",
    "    x_train_noise_G.append(np.abs(gaussian_noise(x_train_1[i], mean=0.0, variance=0.3)))\n",
    "x_train_noise_G = np.array(x_train_noise_G) \n",
    "\n",
    "for i in range (len(x_train_2)):\n",
    "    noise_mask = np.random.poisson(x_train_2[i])\n",
    "    x_train_noise_P[i] = x_train_2[i] + noise_mask\n",
    "\n",
    "for i in range (len(x_train_3)):\n",
    "    x_train_noise_SnP[i] = random_noise(x_train_3[i], mode = 's&p', amount = 0.3)\n",
    "    \n",
    "x_train_noise_SnP = np.array(255*x_train_noise_SnP, dtype = 'uint8')\n",
    "    #noise_img = random_noise(img, mode='s&p',amount=0.3)\n",
    "    #noise_img = np.array(255*noise_img, dtype = 'uint8')"
   ]
  },
  {
   "cell_type": "code",
   "execution_count": 12,
   "metadata": {
    "colab": {
     "base_uri": "https://localhost:8080/",
     "height": 67
    },
    "colab_type": "code",
    "id": "t61e0bnOoAHq",
    "outputId": "641d8639-5db0-4844-f974-6664ae5ef9d5"
   },
   "outputs": [
    {
     "name": "stdout",
     "output_type": "stream",
     "text": [
      "(20000, 28, 28, 1)\n",
      "(20000, 28, 28, 1)\n",
      "(20000, 28, 28, 1)\n"
     ]
    }
   ],
   "source": [
    "print(x_train_noise_G.shape)\n",
    "print(x_train_noise_P.shape)\n",
    "print(x_train_noise_SnP.shape)"
   ]
  },
  {
   "cell_type": "code",
   "execution_count": 0,
   "metadata": {
    "colab": {},
    "colab_type": "code",
    "id": "UaZvgQwWiXnA"
   },
   "outputs": [],
   "source": [
    "# Creating MNIST test images with Gaussian, Poisson and SnP noises\n",
    "\n",
    "x_test_noise_G = []\n",
    "\n",
    "for i in range(len(x_test)):\n",
    "    x_test_noise_G.append(np.abs(gaussian_noise(x_test[i], mean=0.0, variance=0.3)))\n",
    "x_test_noise_G = np.array(x_test_noise_G) \n",
    "\n",
    "\n",
    "x_test_noise_P = np.zeros(x_test.shape)\n",
    "noise_mask = np.zeros(x_test.shape)\n",
    "\n",
    "for i in range (len(x_test)):\n",
    "    noise_mask = np.random.poisson(x_test[i])\n",
    "    x_test_noise_P[i] = x_test[i] + noise_mask\n",
    "\n",
    "\n",
    "x_test_noise_SnP = np.zeros(x_test.shape)\n",
    "\n",
    "for i in range (len(x_test)):\n",
    "    x_test_noise_SnP[i] = random_noise(x_test[i], mode = 's&p', amount = 0.3)\n",
    "x_test_noise_SnP = np.array(255*x_test_noise_SnP, dtype = 'uint8')"
   ]
  },
  {
   "cell_type": "code",
   "execution_count": 16,
   "metadata": {
    "colab": {
     "base_uri": "https://localhost:8080/",
     "height": 67
    },
    "colab_type": "code",
    "id": "zqFEdjSbWaIa",
    "outputId": "2338cc4d-b8f4-4861-f63b-2c3e6ea855c9"
   },
   "outputs": [
    {
     "name": "stdout",
     "output_type": "stream",
     "text": [
      "(10000, 28, 28, 1)\n",
      "(10000, 28, 28, 1)\n",
      "(10000, 28, 28, 1)\n"
     ]
    }
   ],
   "source": [
    "print(x_test_noise_P.shape)\n",
    "print(x_test_noise_G.shape)\n",
    "print(x_test_noise_SnP.shape)\n"
   ]
  },
  {
   "cell_type": "code",
   "execution_count": 17,
   "metadata": {
    "colab": {
     "base_uri": "https://localhost:8080/",
     "height": 67
    },
    "colab_type": "code",
    "id": "wkKbne615Ca-",
    "outputId": "c736133c-8323-436e-d9f4-0bc3d64dbcea"
   },
   "outputs": [
    {
     "name": "stdout",
     "output_type": "stream",
     "text": [
      "(20000, 28, 28, 1)\n",
      "(20000, 28, 28, 1)\n",
      "(20000, 28, 28, 1)\n"
     ]
    }
   ],
   "source": [
    "print(x_train_noise_P.shape)\n",
    "print(x_train_noise_G.shape)\n",
    "print(x_train_noise_SnP.shape)"
   ]
  },
  {
   "cell_type": "code",
   "execution_count": 18,
   "metadata": {
    "colab": {
     "base_uri": "https://localhost:8080/",
     "height": 34
    },
    "colab_type": "code",
    "id": "40m65kJMyplb",
    "outputId": "b4450cf4-9b1f-4d11-cd03-5a6e0f4e9e7a"
   },
   "outputs": [
    {
     "data": {
      "text/plain": [
       "(60000, 28, 28, 1)"
      ]
     },
     "execution_count": 18,
     "metadata": {
      "tags": []
     },
     "output_type": "execute_result"
    }
   ],
   "source": [
    "# Stacking images with different types of noises to create noisy image dataset\n",
    "\n",
    "x_train_noisy = np.vstack((x_train_noise_G, x_train_noise_P, x_train_noise_SnP)) # SnP noise missing\n",
    "x_train_noisy.shape"
   ]
  },
  {
   "cell_type": "code",
   "execution_count": 21,
   "metadata": {
    "colab": {
     "base_uri": "https://localhost:8080/",
     "height": 307
    },
    "colab_type": "code",
    "id": "L7_ftAU5i3Dp",
    "outputId": "8294eebd-531b-4b42-90c1-130f27b751b5"
   },
   "outputs": [
    {
     "data": {
      "image/png": "[encoded data removed]",
      "text/plain": [
       "<Figure size 720x720 with 5 Axes>"
      ]
     },
     "metadata": {
      "tags": []
     },
     "output_type": "display_data"
    },
    {
     "data": {
      "image/png": "[encoded data removed]",
      "text/plain": [
       "<Figure size 720x720 with 5 Axes>"
      ]
     },
     "metadata": {
      "tags": []
     },
     "output_type": "display_data"
    }
   ],
   "source": [
    "# Plotting first 5 images of noiseless and noisy MNIST image dataset\n",
    "\n",
    "import matplotlib.pyplot as plt\n",
    "plt.figure(figsize=(10, 10))\n",
    "for i in range(5):\n",
    "    plt.subplot(1, 5, i+1)\n",
    "    plt.xticks([])\n",
    "    plt.yticks([])\n",
    "    plt.grid(False)\n",
    "    plt.imshow(x_train[i].reshape(28, 28), cmap='gray')\n",
    "plt.tight_layout()\n",
    "plt.show()\n",
    "\n",
    "plt.figure(figsize=(10, 10))\n",
    "for i in range(5):\n",
    "    plt.subplot(1, 5, i+1)\n",
    "    plt.xticks([])\n",
    "    plt.yticks([])\n",
    "    plt.grid(False)\n",
    "    plt.imshow(x_train_noisy[i].reshape(28, 28), cmap='gray')\n",
    "plt.tight_layout()\n",
    "plt.show()\n"
   ]
  },
  {
   "cell_type": "code",
   "execution_count": 22,
   "metadata": {
    "colab": {
     "base_uri": "https://localhost:8080/",
     "height": 588
    },
    "colab_type": "code",
    "id": "Cv3fwYGLi7CG",
    "outputId": "1115fe33-0799-4156-b7c2-67890da69d9a"
   },
   "outputs": [
    {
     "name": "stdout",
     "output_type": "stream",
     "text": [
      "Model: \"sequential\"\n",
      "_________________________________________________________________\n",
      "Layer (type)                 Output Shape              Param #   \n",
      "=================================================================\n",
      "conv2d (Conv2D)              (None, 28, 28, 32)        320       \n",
      "_________________________________________________________________\n",
      "max_pooling2d (MaxPooling2D) (None, 14, 14, 32)        0         \n",
      "_________________________________________________________________\n",
      "conv2d_1 (Conv2D)            (None, 14, 14, 8)         2312      \n",
      "_________________________________________________________________\n",
      "max_pooling2d_1 (MaxPooling2 (None, 7, 7, 8)           0         \n",
      "_________________________________________________________________\n",
      "conv2d_2 (Conv2D)            (None, 7, 7, 8)           584       \n",
      "_________________________________________________________________\n",
      "max_pooling2d_2 (MaxPooling2 (None, 4, 4, 8)           0         \n",
      "_________________________________________________________________\n",
      "conv2d_3 (Conv2D)            (None, 4, 4, 8)           584       \n",
      "_________________________________________________________________\n",
      "up_sampling2d (UpSampling2D) (None, 8, 8, 8)           0         \n",
      "_________________________________________________________________\n",
      "conv2d_4 (Conv2D)            (None, 8, 8, 8)           584       \n",
      "_________________________________________________________________\n",
      "up_sampling2d_1 (UpSampling2 (None, 16, 16, 8)         0         \n",
      "_________________________________________________________________\n",
      "conv2d_5 (Conv2D)            (None, 14, 14, 32)        2336      \n",
      "_________________________________________________________________\n",
      "up_sampling2d_2 (UpSampling2 (None, 28, 28, 32)        0         \n",
      "_________________________________________________________________\n",
      "conv2d_6 (Conv2D)            (None, 28, 28, 1)         289       \n",
      "=================================================================\n",
      "Total params: 7,009\n",
      "Trainable params: 7,009\n",
      "Non-trainable params: 0\n",
      "_________________________________________________________________\n"
     ]
    }
   ],
   "source": [
    "# Creating the model\n",
    "\n",
    "model = Sequential()\n",
    "\n",
    "# Encoding (or Compressing) images\n",
    "model.add(Conv2D(32,(3,3), activation = 'relu', padding = 'same', input_shape = (28, 28, 1)))\n",
    "# 32 -> dimentionality of the output space, relu -> activation function, padding is 'same' that results in padding the \n",
    "# input such that the output has the same length as the original input\n",
    "model.add(MaxPooling2D((2,2), padding = 'same'))\n",
    "# Downscaling by a factor of 2x2\n",
    "model.add(Conv2D(8,(3,3), activation = 'relu', padding = 'same'))\n",
    "model.add(MaxPooling2D((2,2), padding = 'same'))\n",
    "model.add(Conv2D(8,(3,3), activation = 'relu', padding = 'same'))\n",
    "model.add(MaxPooling2D((2,2), padding = 'same'))\n",
    "\n",
    "# Decoding (or Decompressing) images\n",
    "model.add(Conv2D(8,(3,3), activation = 'relu', padding = 'same'))\n",
    "model.add(UpSampling2D((2,2)))\n",
    "model.add(Conv2D(8,(3,3), activation = 'relu', padding = 'same'))\n",
    "model.add(UpSampling2D((2,2)))\n",
    "model.add(Conv2D(32,(3,3), activation = 'relu'))\n",
    "model.add(UpSampling2D((2,2)))\n",
    "model.add(Conv2D(1,(3,3), activation = 'relu', padding = 'same'))\n",
    "\n",
    "\n",
    "model.compile(optimizer='adam', loss = 'mean_squared_error')\n",
    "\n",
    "model.summary()"
   ]
  },
  {
   "cell_type": "code",
   "execution_count": 0,
   "metadata": {
    "colab": {},
    "colab_type": "code",
    "id": "QaLCNL3njMKO"
   },
   "outputs": [],
   "source": [
    "#Compiling the model\n",
    "\n",
    "from tensorflow.keras.callbacks import EarlyStopping\n",
    "early_stopper = EarlyStopping(monitor='val_loss', min_delta=0, patience=10, verbose=1, mode='auto')"
   ]
  },
  {
   "cell_type": "code",
   "execution_count": 25,
   "metadata": {
    "colab": {
     "base_uri": "https://localhost:8080/",
     "height": 1000
    },
    "colab_type": "code",
    "id": "fe_l9l2Pkr3j",
    "outputId": "d71f5e3a-8726-45b5-9a1c-32c549493410"
   },
   "outputs": [
    {
     "name": "stdout",
     "output_type": "stream",
     "text": [
      "Epoch 1/100\n",
      "469/469 [==============================] - 3s 6ms/step - loss: 0.1170 - val_loss: 0.0585\n",
      "Epoch 2/100\n",
      "469/469 [==============================] - 2s 5ms/step - loss: 0.0560 - val_loss: 0.0409\n",
      "Epoch 3/100\n",
      "469/469 [==============================] - 2s 5ms/step - loss: 0.0458 - val_loss: 0.0343\n",
      "Epoch 4/100\n",
      "469/469 [==============================] - 2s 5ms/step - loss: 0.0409 - val_loss: 0.0307\n",
      "Epoch 5/100\n",
      "469/469 [==============================] - 3s 5ms/step - loss: 0.0378 - val_loss: 0.0277\n",
      "Epoch 6/100\n",
      "469/469 [==============================] - 2s 5ms/step - loss: 0.0354 - val_loss: 0.0260\n",
      "Epoch 7/100\n",
      "469/469 [==============================] - 2s 5ms/step - loss: 0.0337 - val_loss: 0.0244\n",
      "Epoch 8/100\n",
      "469/469 [==============================] - 2s 5ms/step - loss: 0.0324 - val_loss: 0.0236\n",
      "Epoch 9/100\n",
      "469/469 [==============================] - 2s 5ms/step - loss: 0.0315 - val_loss: 0.0225\n",
      "Epoch 10/100\n",
      "469/469 [==============================] - 2s 5ms/step - loss: 0.0308 - val_loss: 0.0219\n",
      "Epoch 11/100\n",
      "469/469 [==============================] - 2s 5ms/step - loss: 0.0301 - val_loss: 0.0215\n",
      "Epoch 12/100\n",
      "469/469 [==============================] - 2s 5ms/step - loss: 0.0297 - val_loss: 0.0215\n",
      "Epoch 13/100\n",
      "469/469 [==============================] - 2s 5ms/step - loss: 0.0292 - val_loss: 0.0207\n",
      "Epoch 14/100\n",
      "469/469 [==============================] - 2s 5ms/step - loss: 0.0288 - val_loss: 0.0203\n",
      "Epoch 15/100\n",
      "469/469 [==============================] - 2s 5ms/step - loss: 0.0285 - val_loss: 0.0203\n",
      "Epoch 16/100\n",
      "469/469 [==============================] - 2s 5ms/step - loss: 0.0282 - val_loss: 0.0198\n",
      "Epoch 17/100\n",
      "469/469 [==============================] - 2s 5ms/step - loss: 0.0278 - val_loss: 0.0217\n",
      "Epoch 18/100\n",
      "469/469 [==============================] - 2s 5ms/step - loss: 0.0275 - val_loss: 0.0193\n",
      "Epoch 19/100\n",
      "469/469 [==============================] - 2s 5ms/step - loss: 0.0273 - val_loss: 0.0192\n",
      "Epoch 20/100\n",
      "469/469 [==============================] - 2s 5ms/step - loss: 0.0271 - val_loss: 0.0190\n",
      "Epoch 21/100\n",
      "469/469 [==============================] - 2s 5ms/step - loss: 0.0269 - val_loss: 0.0191\n",
      "Epoch 22/100\n",
      "469/469 [==============================] - 2s 5ms/step - loss: 0.0266 - val_loss: 0.0190\n",
      "Epoch 23/100\n",
      "469/469 [==============================] - 2s 5ms/step - loss: 0.0265 - val_loss: 0.0184\n",
      "Epoch 24/100\n",
      "469/469 [==============================] - 2s 5ms/step - loss: 0.0263 - val_loss: 0.0189\n",
      "Epoch 25/100\n",
      "469/469 [==============================] - 2s 5ms/step - loss: 0.0261 - val_loss: 0.0183\n",
      "Epoch 26/100\n",
      "469/469 [==============================] - 2s 5ms/step - loss: 0.0259 - val_loss: 0.0182\n",
      "Epoch 27/100\n",
      "469/469 [==============================] - 2s 5ms/step - loss: 0.0258 - val_loss: 0.0179\n",
      "Epoch 28/100\n",
      "469/469 [==============================] - 2s 5ms/step - loss: 0.0257 - val_loss: 0.0181\n",
      "Epoch 29/100\n",
      "469/469 [==============================] - 2s 5ms/step - loss: 0.0255 - val_loss: 0.0177\n",
      "Epoch 30/100\n",
      "469/469 [==============================] - 2s 5ms/step - loss: 0.0254 - val_loss: 0.0176\n",
      "Epoch 31/100\n",
      "469/469 [==============================] - 2s 5ms/step - loss: 0.0253 - val_loss: 0.0176\n",
      "Epoch 32/100\n",
      "469/469 [==============================] - 3s 5ms/step - loss: 0.0252 - val_loss: 0.0175\n",
      "Epoch 33/100\n",
      "469/469 [==============================] - 2s 5ms/step - loss: 0.0250 - val_loss: 0.0176\n",
      "Epoch 34/100\n",
      "469/469 [==============================] - 2s 5ms/step - loss: 0.0249 - val_loss: 0.0173\n",
      "Epoch 35/100\n",
      "469/469 [==============================] - 2s 5ms/step - loss: 0.0248 - val_loss: 0.0175\n",
      "Epoch 36/100\n",
      "469/469 [==============================] - 2s 5ms/step - loss: 0.0247 - val_loss: 0.0171\n",
      "Epoch 37/100\n",
      "469/469 [==============================] - 2s 5ms/step - loss: 0.0246 - val_loss: 0.0172\n",
      "Epoch 38/100\n",
      "469/469 [==============================] - 2s 5ms/step - loss: 0.0245 - val_loss: 0.0170\n",
      "Epoch 39/100\n",
      "469/469 [==============================] - 2s 5ms/step - loss: 0.0245 - val_loss: 0.0170\n",
      "Epoch 40/100\n",
      "469/469 [==============================] - 2s 5ms/step - loss: 0.0245 - val_loss: 0.0169\n",
      "Epoch 41/100\n",
      "469/469 [==============================] - 2s 5ms/step - loss: 0.0244 - val_loss: 0.0168\n",
      "Epoch 42/100\n",
      "469/469 [==============================] - 2s 5ms/step - loss: 0.0243 - val_loss: 0.0167\n",
      "Epoch 43/100\n",
      "469/469 [==============================] - 2s 5ms/step - loss: 0.0242 - val_loss: 0.0167\n",
      "Epoch 44/100\n",
      "469/469 [==============================] - 2s 5ms/step - loss: 0.0241 - val_loss: 0.0166\n",
      "Epoch 45/100\n",
      "469/469 [==============================] - 3s 5ms/step - loss: 0.0241 - val_loss: 0.0167\n",
      "Epoch 46/100\n",
      "469/469 [==============================] - 2s 5ms/step - loss: 0.0241 - val_loss: 0.0167\n",
      "Epoch 47/100\n",
      "469/469 [==============================] - 3s 5ms/step - loss: 0.0240 - val_loss: 0.0165\n",
      "Epoch 48/100\n",
      "469/469 [==============================] - 2s 5ms/step - loss: 0.0239 - val_loss: 0.0170\n",
      "Epoch 49/100\n",
      "469/469 [==============================] - 2s 5ms/step - loss: 0.0238 - val_loss: 0.0165\n",
      "Epoch 50/100\n",
      "469/469 [==============================] - 2s 5ms/step - loss: 0.0238 - val_loss: 0.0166\n",
      "Epoch 51/100\n",
      "469/469 [==============================] - 2s 5ms/step - loss: 0.0237 - val_loss: 0.0164\n",
      "Epoch 52/100\n",
      "469/469 [==============================] - 2s 5ms/step - loss: 0.0237 - val_loss: 0.0168\n",
      "Epoch 53/100\n",
      "469/469 [==============================] - 2s 5ms/step - loss: 0.0236 - val_loss: 0.0168\n",
      "Epoch 54/100\n",
      "469/469 [==============================] - 3s 5ms/step - loss: 0.0236 - val_loss: 0.0163\n",
      "Epoch 55/100\n",
      "469/469 [==============================] - 3s 5ms/step - loss: 0.0236 - val_loss: 0.0164\n",
      "Epoch 56/100\n",
      "469/469 [==============================] - 3s 5ms/step - loss: 0.0235 - val_loss: 0.0165\n",
      "Epoch 57/100\n",
      "469/469 [==============================] - 2s 5ms/step - loss: 0.0235 - val_loss: 0.0165\n",
      "Epoch 58/100\n",
      "469/469 [==============================] - 3s 5ms/step - loss: 0.0235 - val_loss: 0.0161\n",
      "Epoch 59/100\n",
      "469/469 [==============================] - 2s 5ms/step - loss: 0.0235 - val_loss: 0.0175\n",
      "Epoch 60/100\n",
      "469/469 [==============================] - 2s 5ms/step - loss: 0.0234 - val_loss: 0.0163\n",
      "Epoch 61/100\n",
      "469/469 [==============================] - 2s 5ms/step - loss: 0.0234 - val_loss: 0.0162\n",
      "Epoch 62/100\n",
      "469/469 [==============================] - 2s 5ms/step - loss: 0.0233 - val_loss: 0.0163\n",
      "Epoch 63/100\n",
      "469/469 [==============================] - 2s 5ms/step - loss: 0.0233 - val_loss: 0.0161\n",
      "Epoch 64/100\n",
      "469/469 [==============================] - 2s 5ms/step - loss: 0.0233 - val_loss: 0.0161\n",
      "Epoch 65/100\n",
      "469/469 [==============================] - 2s 5ms/step - loss: 0.0232 - val_loss: 0.0160\n",
      "Epoch 66/100\n",
      "469/469 [==============================] - 2s 5ms/step - loss: 0.0232 - val_loss: 0.0160\n",
      "Epoch 67/100\n",
      "469/469 [==============================] - 2s 5ms/step - loss: 0.0232 - val_loss: 0.0162\n",
      "Epoch 68/100\n",
      "469/469 [==============================] - 2s 5ms/step - loss: 0.0231 - val_loss: 0.0160\n",
      "Epoch 69/100\n",
      "469/469 [==============================] - 2s 5ms/step - loss: 0.0231 - val_loss: 0.0161\n",
      "Epoch 70/100\n",
      "469/469 [==============================] - 3s 5ms/step - loss: 0.0232 - val_loss: 0.0160\n",
      "Epoch 71/100\n",
      "469/469 [==============================] - 2s 5ms/step - loss: 0.0230 - val_loss: 0.0164\n",
      "Epoch 72/100\n",
      "469/469 [==============================] - 3s 5ms/step - loss: 0.0230 - val_loss: 0.0158\n",
      "Epoch 73/100\n",
      "469/469 [==============================] - 3s 5ms/step - loss: 0.0230 - val_loss: 0.0159\n",
      "Epoch 74/100\n",
      "469/469 [==============================] - 3s 5ms/step - loss: 0.0229 - val_loss: 0.0158\n",
      "Epoch 75/100\n",
      "469/469 [==============================] - 3s 5ms/step - loss: 0.0229 - val_loss: 0.0160\n",
      "Epoch 76/100\n",
      "469/469 [==============================] - 2s 5ms/step - loss: 0.0229 - val_loss: 0.0160\n",
      "Epoch 77/100\n",
      "469/469 [==============================] - 2s 5ms/step - loss: 0.0229 - val_loss: 0.0159\n",
      "Epoch 78/100\n",
      "469/469 [==============================] - 2s 5ms/step - loss: 0.0229 - val_loss: 0.0157\n",
      "Epoch 79/100\n",
      "469/469 [==============================] - 2s 5ms/step - loss: 0.0229 - val_loss: 0.0157\n",
      "Epoch 80/100\n",
      "469/469 [==============================] - 2s 5ms/step - loss: 0.0228 - val_loss: 0.0159\n",
      "Epoch 81/100\n",
      "469/469 [==============================] - 2s 5ms/step - loss: 0.0228 - val_loss: 0.0157\n",
      "Epoch 82/100\n",
      "469/469 [==============================] - 2s 5ms/step - loss: 0.0228 - val_loss: 0.0159\n",
      "Epoch 83/100\n",
      "469/469 [==============================] - 2s 5ms/step - loss: 0.0228 - val_loss: 0.0159\n",
      "Epoch 84/100\n",
      "469/469 [==============================] - 2s 5ms/step - loss: 0.0227 - val_loss: 0.0157\n",
      "Epoch 85/100\n",
      "469/469 [==============================] - 2s 5ms/step - loss: 0.0227 - val_loss: 0.0157\n",
      "Epoch 86/100\n",
      "469/469 [==============================] - 2s 5ms/step - loss: 0.0227 - val_loss: 0.0156\n",
      "Epoch 87/100\n",
      "469/469 [==============================] - 2s 5ms/step - loss: 0.0227 - val_loss: 0.0156\n",
      "Epoch 88/100\n",
      "469/469 [==============================] - 3s 5ms/step - loss: 0.0226 - val_loss: 0.0155\n",
      "Epoch 89/100\n",
      "469/469 [==============================] - 2s 5ms/step - loss: 0.0226 - val_loss: 0.0155\n",
      "Epoch 90/100\n",
      "469/469 [==============================] - 3s 5ms/step - loss: 0.0226 - val_loss: 0.0164\n",
      "Epoch 91/100\n",
      "469/469 [==============================] - 2s 5ms/step - loss: 0.0226 - val_loss: 0.0157\n",
      "Epoch 92/100\n",
      "469/469 [==============================] - 3s 5ms/step - loss: 0.0226 - val_loss: 0.0168\n",
      "Epoch 93/100\n",
      "469/469 [==============================] - 2s 5ms/step - loss: 0.0226 - val_loss: 0.0155\n",
      "Epoch 94/100\n",
      "469/469 [==============================] - 2s 5ms/step - loss: 0.0226 - val_loss: 0.0154\n",
      "Epoch 95/100\n",
      "469/469 [==============================] - 2s 5ms/step - loss: 0.0225 - val_loss: 0.0155\n",
      "Epoch 96/100\n",
      "469/469 [==============================] - 2s 5ms/step - loss: 0.0225 - val_loss: 0.0156\n",
      "Epoch 97/100\n",
      "469/469 [==============================] - 2s 5ms/step - loss: 0.0225 - val_loss: 0.0154\n",
      "Epoch 98/100\n",
      "469/469 [==============================] - 3s 5ms/step - loss: 0.0225 - val_loss: 0.0157\n",
      "Epoch 99/100\n",
      "469/469 [==============================] - 3s 5ms/step - loss: 0.0225 - val_loss: 0.0154\n",
      "Epoch 100/100\n",
      "469/469 [==============================] - 2s 5ms/step - loss: 0.0224 - val_loss: 0.0156\n"
     ]
    },
    {
     "data": {
      "text/plain": [
       "<tensorflow.python.keras.callbacks.History at 0x7f34904410f0>"
      ]
     },
     "execution_count": 25,
     "metadata": {
      "tags": []
     },
     "output_type": "execute_result"
    }
   ],
   "source": [
    "# Training the model on noisy data\n",
    " \n",
    "model.fit(x_train_noisy, x_train,\n",
    "                epochs=100,\n",
    "                batch_size=128,\n",
    "                shuffle=True,\n",
    "                validation_data=(x_test_noise_G, x_test),\n",
    "                callbacks=[early_stopper])"
   ]
  },
  {
   "cell_type": "code",
   "execution_count": 26,
   "metadata": {
    "colab": {
     "base_uri": "https://localhost:8080/",
     "height": 104
    },
    "colab_type": "code",
    "id": "_qVJsNJXmJtP",
    "outputId": "8c9096ed-a8fe-4b90-8349-d2b762197fd6"
   },
   "outputs": [
    {
     "name": "stdout",
     "output_type": "stream",
     "text": [
      "WARNING:tensorflow:From /usr/local/lib/python3.6/dist-packages/tensorflow/python/ops/resource_variable_ops.py:1817: calling BaseResourceVariable.__init__ (from tensorflow.python.ops.resource_variable_ops) with constraint is deprecated and will be removed in a future version.\n",
      "Instructions for updating:\n",
      "If using Keras pass *_constraint arguments to layers.\n",
      "INFO:tensorflow:Assets written to: DenoisingAutoencoder.model/assets\n"
     ]
    }
   ],
   "source": [
    "# Saving model parameters \n",
    "model.save('DenoisingAutoencoder.model')"
   ]
  },
  {
   "cell_type": "code",
   "execution_count": 0,
   "metadata": {
    "colab": {},
    "colab_type": "code",
    "id": "Xnvi0w7foWx5"
   },
   "outputs": [],
   "source": [
    "# Predicting (denoising) images with Poisson noise\n",
    "x_pred_P = model.predict(x_test_noise_P)"
   ]
  },
  {
   "cell_type": "code",
   "execution_count": 36,
   "metadata": {
    "colab": {
     "base_uri": "https://localhost:8080/",
     "height": 469
    },
    "colab_type": "code",
    "id": "S__0uKZtoa84",
    "outputId": "cd86b05f-c0a3-4c9f-d6ef-c34eae9bd8bc"
   },
   "outputs": [
    {
     "data": {
      "image/png": "[encoded data removed]",
      "text/plain": [
       "<Figure size 720x720 with 5 Axes>"
      ]
     },
     "metadata": {
      "tags": []
     },
     "output_type": "display_data"
    },
    {
     "data": {
      "image/png": "[encoded data removed]",
      "text/plain": [
       "<Figure size 720x720 with 5 Axes>"
      ]
     },
     "metadata": {
      "tags": []
     },
     "output_type": "display_data"
    },
    {
     "data": {
      "image/png": "[encoded data removed]",
      "text/plain": [
       "<Figure size 720x720 with 5 Axes>"
      ]
     },
     "metadata": {
      "tags": []
     },
     "output_type": "display_data"
    },
    {
     "data": {
      "text/plain": [
       "<Figure size 432x288 with 0 Axes>"
      ]
     },
     "metadata": {
      "tags": []
     },
     "output_type": "display_data"
    }
   ],
   "source": [
    "## Plot the denoised images (Poisson noise) from autoencoders\n",
    "\n",
    "\n",
    "# Plotting noiseless images\n",
    "plt.figure(figsize=(10,10))\n",
    "for i in range(5):\n",
    "    plt.subplot(1, 5, i+1)\n",
    "    plt.xticks([]) # to remove x-axis  the [] empty list indicates this\n",
    "    plt.yticks([]) # to remove y-axis\n",
    "    plt.grid(False) # to remove grid\n",
    "    #plt.title('Clean Test Images', fontsize=10)\n",
    "    plt.imshow(x_test[i].reshape(28, 28), cmap='gray') #display the image \n",
    "plt.tight_layout() # to have a proper space in the subplots\n",
    "plt.show()\n",
    "\n",
    "\n",
    "# Plotting images with noise\n",
    "plt.figure(figsize=(10,10))\n",
    "for i in range(5):\n",
    "    plt.subplot(1, 5, i+1)\n",
    "    plt.xticks([]) # to remove x-axis  the [] empty list indicates this\n",
    "    plt.yticks([]) # to remove y-axis\n",
    "    plt.grid(False) # to remove grid\n",
    "    #plt.title('Images corrupted with Poisson Noise', fontsize=10)\n",
    "    plt.imshow(x_test_noise_P[i].reshape(28, 28), cmap='gray') #display the image \n",
    "plt.tight_layout() # to have a proper space in the subplots\n",
    "plt.show()\n",
    "\n",
    "# Plotting to visualize reconstructed images(output of autoencoder)\n",
    "plt.figure(figsize=(10,10))\n",
    "for i in range(5):\n",
    "    plt.subplot(1, 5, i+1)\n",
    "    plt.xticks([]) # to remove x-axis  the [] empty list indicates this\n",
    "    plt.yticks([]) # to remove y-axis\n",
    "    plt.grid(False) # to remove grid\n",
    "    #plt.title('Predicted Images by Autoencoder', fontsize=10)\n",
    "    plt.imshow(x_pred_P[i].reshape(28, 28), cmap='gray') #display the image \n",
    "plt.tight_layout() # to have a proper space in the subplots\n",
    "plt.show()\n",
    "plt.savefig(\"Denoising Autoencoder + Poisson Noise\", bbox_inches='tight', format = 'png')"
   ]
  },
  {
   "cell_type": "code",
   "execution_count": 37,
   "metadata": {
    "colab": {
     "base_uri": "https://localhost:8080/",
     "height": 171
    },
    "colab_type": "code",
    "id": "llr7FLNKomsb",
    "outputId": "8dbceddc-3351-45c9-b9bc-209deb77a954"
   },
   "outputs": [
    {
     "name": "stderr",
     "output_type": "stream",
     "text": [
      "/usr/local/lib/python3.6/dist-packages/ipykernel_launcher.py:7: UserWarning: DEPRECATED: skimage.measure.compare_ssim has been moved to skimage.metrics.structural_similarity. It will be removed from skimage.measure in version 0.18.\n",
      "  import sys\n",
      "/usr/local/lib/python3.6/dist-packages/ipykernel_launcher.py:9: UserWarning: DEPRECATED: skimage.measure.compare_psnr has been moved to skimage.metrics.peak_signal_noise_ratio. It will be removed from skimage.measure in version 0.18.\n",
      "  if __name__ == '__main__':\n"
     ]
    },
    {
     "name": "stdout",
     "output_type": "stream",
     "text": [
      "SSIM of clean test images vs predicted denoised images\n",
      "0.8629542301299049\n",
      "PSNR of clean test images vs predicted denoised images\n",
      "18.623126146423807\n"
     ]
    }
   ],
   "source": [
    "# Calculating the SSIM and PSNR of denoised images (Poisson Noise)\n",
    "#using Autoencoder\n",
    "\n",
    "ssim_aeP_mnist = 0\n",
    "ssim_aeP_mnist_list =[]\n",
    "psnr_aeP_mnist_list = []\n",
    "                       \n",
    "\n",
    "for i in range (len(x_test)):\n",
    "    ssim_aeP_mnist = measure.compare_ssim(x_pred_P[i], x_test[i],multichannel = True, win_size = None)\n",
    "    ssim_aeP_mnist_list.append(ssim_aeP_mnist)\n",
    "    psnr_aeP_mnist = measure.compare_psnr(x_test[i], x_pred_P[i])\n",
    "    psnr_aeP_mnist_list.append(psnr_aeP_mnist)\n",
    "\n",
    "print('SSIM of clean test images vs predicted denoised images') \n",
    "    \n",
    "print(np.sum(ssim_aeP_mnist_list)/len(ssim_aeP_mnist_list))\n",
    "print('PSNR of clean test images vs predicted denoised images') \n",
    "print(np.sum(psnr_aeP_mnist_list)/len(psnr_aeP_mnist_list))"
   ]
  },
  {
   "cell_type": "code",
   "execution_count": 0,
   "metadata": {
    "colab": {},
    "colab_type": "code",
    "id": "So5xm69gMKQD"
   },
   "outputs": [],
   "source": [
    "# Predicting (denoising) images with Gaussian noise\n",
    "x_pred_G = model.predict(x_test_noise_G)"
   ]
  },
  {
   "cell_type": "code",
   "execution_count": 40,
   "metadata": {
    "colab": {
     "base_uri": "https://localhost:8080/",
     "height": 469
    },
    "colab_type": "code",
    "id": "IM42JumM1Pdn",
    "outputId": "98a7dc5c-70f5-41ec-e32d-749eb01735ce"
   },
   "outputs": [
    {
     "data": {
      "image/png": "[encoded data removed]",
      "text/plain": [
       "<Figure size 720x720 with 5 Axes>"
      ]
     },
     "metadata": {
      "tags": []
     },
     "output_type": "display_data"
    },
    {
     "data": {
      "image/png": "[encoded data removed]",
      "text/plain": [
       "<Figure size 720x720 with 5 Axes>"
      ]
     },
     "metadata": {
      "tags": []
     },
     "output_type": "display_data"
    },
    {
     "data": {
      "image/png": "[encoded data removed]",
      "text/plain": [
       "<Figure size 720x720 with 5 Axes>"
      ]
     },
     "metadata": {
      "tags": []
     },
     "output_type": "display_data"
    },
    {
     "data": {
      "text/plain": [
       "<Figure size 432x288 with 0 Axes>"
      ]
     },
     "metadata": {
      "tags": []
     },
     "output_type": "display_data"
    }
   ],
   "source": [
    "## Plot the denoised images (Gaussian noise) from autoencoders\n",
    "\n",
    "\n",
    "# Plotting noiseless images\n",
    "plt.figure(figsize=(10,10))\n",
    "for i in range(5):\n",
    "    plt.subplot(1, 5, i+1)\n",
    "    plt.xticks([]) # to remove x-axis  the [] empty list indicates this\n",
    "    plt.yticks([]) # to remove y-axis\n",
    "    plt.grid(False) # to remove grid\n",
    "    plt.imshow(x_test[i].reshape(28, 28), cmap='gray') #display the image \n",
    "plt.tight_layout() # to have a proper space in the subplots\n",
    "plt.show()\n",
    "\n",
    "\n",
    "# Plotting images with noise\n",
    "plt.figure(figsize=(10,10))\n",
    "for i in range(5):\n",
    "    plt.subplot(1, 5, i+1)\n",
    "    plt.xticks([]) # to remove x-axis  the [] empty list indicates this\n",
    "    plt.yticks([]) # to remove y-axis\n",
    "    plt.grid(False) # to remove grid\n",
    "    plt.imshow(x_test_noise_G[i].reshape(28, 28), cmap='gray') #display the image \n",
    "plt.tight_layout() # to have a proper space in the subplots\n",
    "plt.show()\n",
    "\n",
    "# Plotting to visualize reconstructed images(output of autoencoder)\n",
    "plt.figure(figsize=(10,10))\n",
    "for i in range(5):\n",
    "    plt.subplot(1, 5, i+1)\n",
    "    plt.xticks([]) # to remove x-axis  the [] empty list indicates this\n",
    "    plt.yticks([]) # to remove y-axis\n",
    "    plt.grid(False) # to remove grid\n",
    "    plt.imshow(x_pred_G[i].reshape(28, 28), cmap='gray') #display the image \n",
    "plt.tight_layout() # to have a proper space in the subplots\n",
    "plt.show()\n",
    "plt.savefig(\"Denoising Autoencoder + Gaussian Noise\", bbox_inches='tight', format = 'png')"
   ]
  },
  {
   "cell_type": "code",
   "execution_count": 41,
   "metadata": {
    "colab": {
     "base_uri": "https://localhost:8080/",
     "height": 171
    },
    "colab_type": "code",
    "id": "mD3hk7NjMmkq",
    "outputId": "bbb2ea3a-10fc-4dee-cb9d-7161d45c5f3d"
   },
   "outputs": [
    {
     "name": "stderr",
     "output_type": "stream",
     "text": [
      "/usr/local/lib/python3.6/dist-packages/ipykernel_launcher.py:7: UserWarning: DEPRECATED: skimage.measure.compare_ssim has been moved to skimage.metrics.structural_similarity. It will be removed from skimage.measure in version 0.18.\n",
      "  import sys\n",
      "/usr/local/lib/python3.6/dist-packages/ipykernel_launcher.py:9: UserWarning: DEPRECATED: skimage.measure.compare_psnr has been moved to skimage.metrics.peak_signal_noise_ratio. It will be removed from skimage.measure in version 0.18.\n",
      "  if __name__ == '__main__':\n"
     ]
    },
    {
     "name": "stdout",
     "output_type": "stream",
     "text": [
      "SSIM of clean test images vs predicted denoised images\n",
      "0.863553098788171\n",
      "PSNR of clean test images vs predicted denoised images\n",
      "18.58773030306335\n"
     ]
    }
   ],
   "source": [
    "# Calculating the SSIM and PSNR of denoised images (Gaussian Noise)\n",
    "#using Autoencoder\n",
    "\n",
    "\n",
    "ssim_aeG_mnist = 0\n",
    "ssim_aeG_mnist_list =[]\n",
    "psnr_aeG_mnist_list = []\n",
    "                       \n",
    "\n",
    "for i in range (len(x_test)):\n",
    "    ssim_aeG_mnist = measure.compare_ssim(x_pred_G[i], x_test[i],multichannel = True, win_size = None)\n",
    "    ssim_aeG_mnist_list.append(ssim_aeG_mnist)\n",
    "    psnr_aeG_mnist = measure.compare_psnr(x_test[i], x_pred_G[i])\n",
    "    psnr_aeG_mnist_list.append(psnr_aeG_mnist)\n",
    "\n",
    "print('SSIM of clean test images vs predicted denoised images') \n",
    "    \n",
    "print(np.sum(ssim_aeG_mnist_list)/len(ssim_aeG_mnist_list))\n",
    "print('PSNR of clean test images vs predicted denoised images') \n",
    "print(np.sum(psnr_aeG_mnist_list)/len(psnr_aeG_mnist_list))"
   ]
  },
  {
   "cell_type": "code",
   "execution_count": 0,
   "metadata": {
    "colab": {},
    "colab_type": "code",
    "id": "w50r0n1_M0_0"
   },
   "outputs": [],
   "source": [
    "# Predicting (denoising) images with SnP noise\n",
    "x_pred_SnP = model.predict(x_test_noise_SnP)"
   ]
  },
  {
   "cell_type": "code",
   "execution_count": 43,
   "metadata": {
    "colab": {
     "base_uri": "https://localhost:8080/",
     "height": 469
    },
    "colab_type": "code",
    "id": "Zld5hZ8cNynS",
    "outputId": "d912831a-ab44-4920-b6a0-5fcd0ee3e968"
   },
   "outputs": [
    {
     "data": {
      "image/png": "[encoded data removed]",
      "text/plain": [
       "<Figure size 720x720 with 5 Axes>"
      ]
     },
     "metadata": {
      "tags": []
     },
     "output_type": "display_data"
    },
    {
     "data": {
      "image/png": "[encoded data removed]",
      "text/plain": [
       "<Figure size 720x720 with 5 Axes>"
      ]
     },
     "metadata": {
      "tags": []
     },
     "output_type": "display_data"
    },
    {
     "data": {
      "image/png": "[encoded data removed]",
      "text/plain": [
       "<Figure size 720x720 with 5 Axes>"
      ]
     },
     "metadata": {
      "tags": []
     },
     "output_type": "display_data"
    },
    {
     "data": {
      "text/plain": [
       "<Figure size 432x288 with 0 Axes>"
      ]
     },
     "metadata": {
      "tags": []
     },
     "output_type": "display_data"
    }
   ],
   "source": [
    "## Plot the denoised images (SnP noise) from autoencoders\n",
    "\n",
    "\n",
    "# Plotting noiseless images\n",
    "plt.figure(figsize=(10,10))\n",
    "for i in range(5):\n",
    "    plt.subplot(1, 5, i+1)\n",
    "    plt.xticks([]) # to remove x-axis  the [] empty list indicates this\n",
    "    plt.yticks([]) # to remove y-axis\n",
    "    plt.grid(False) # to remove grid\n",
    "    plt.imshow(x_test[i].reshape(28, 28), cmap='gray') #display the image \n",
    "plt.tight_layout() # to have a proper space in the subplots\n",
    "plt.show()\n",
    "\n",
    "\n",
    "# Plotting images with noise\n",
    "plt.figure(figsize=(10,10))\n",
    "for i in range(5):\n",
    "    plt.subplot(1, 5, i+1)\n",
    "    plt.xticks([]) # to remove x-axis  the [] empty list indicates this\n",
    "    plt.yticks([]) # to remove y-axis\n",
    "    plt.grid(False) # to remove grid\n",
    "    plt.imshow(x_test_noise_SnP[i].reshape(28, 28), cmap='gray') #display the image \n",
    "plt.tight_layout() # to have a proper space in the subplots\n",
    "plt.show()\n",
    "\n",
    "\n",
    "# Plotting to visualize reconstructed images(output of autoencoder)\n",
    "plt.figure(figsize=(10,10))\n",
    "for i in range(5):\n",
    "    plt.subplot(1, 5, i+1)\n",
    "    plt.xticks([]) # to remove x-axis  the [] empty list indicates this\n",
    "    plt.yticks([]) # to remove y-axis\n",
    "    plt.grid(False) # to remove grid\n",
    "    plt.imshow(x_pred_SnP[i].reshape(28, 28), cmap='gray') #display the image \n",
    "plt.tight_layout() # to have a proper space in the subplots\n",
    "plt.show()\n",
    "plt.savefig(\"Denoising Autoencoder + Salt and Pepper Noise\", bbox_inches='tight', format = 'png')"
   ]
  },
  {
   "cell_type": "code",
   "execution_count": 44,
   "metadata": {
    "colab": {
     "base_uri": "https://localhost:8080/",
     "height": 171
    },
    "colab_type": "code",
    "id": "CAWnhqb2N-Gn",
    "outputId": "7dd02342-bfdd-4cd5-bfc3-2d07ff64f09d"
   },
   "outputs": [
    {
     "name": "stderr",
     "output_type": "stream",
     "text": [
      "/usr/local/lib/python3.6/dist-packages/ipykernel_launcher.py:7: UserWarning: DEPRECATED: skimage.measure.compare_ssim has been moved to skimage.metrics.structural_similarity. It will be removed from skimage.measure in version 0.18.\n",
      "  import sys\n",
      "/usr/local/lib/python3.6/dist-packages/ipykernel_launcher.py:9: UserWarning: DEPRECATED: skimage.measure.compare_psnr has been moved to skimage.metrics.peak_signal_noise_ratio. It will be removed from skimage.measure in version 0.18.\n",
      "  if __name__ == '__main__':\n"
     ]
    },
    {
     "name": "stdout",
     "output_type": "stream",
     "text": [
      "SSIM of clean test images vs predicted denoised images\n",
      "0.863553098788171\n",
      "PSNR of clean test images vs predicted denoised images\n",
      "18.58773030306335\n"
     ]
    }
   ],
   "source": [
    "# Calculating the SSIM and PSNR of denoised images (SnP Noise)\n",
    "#using Autoencoder\n",
    "\n",
    "ssim_aeSnP_mnist = 0\n",
    "ssim_aeSnP_mnist_list =[]\n",
    "psnr_aeSnP_mnist_list = []\n",
    "                       \n",
    "\n",
    "for i in range (len(x_test)):\n",
    "    ssim_aeSnP_mnist = measure.compare_ssim(x_pred_SnP[i], x_test[i],multichannel = True, win_size = None)\n",
    "    ssim_aeSnP_mnist_list.append(ssim_aeSnP_mnist)\n",
    "    psnr_aeSnP_mnist = measure.compare_psnr(x_test[i], x_pred_SnP[i])\n",
    "    psnr_aeSnP_mnist_list.append(psnr_aeSnP_mnist)\n",
    "\n",
    "print('SSIM of clean test images vs predicted denoised images') \n",
    "    \n",
    "print(np.sum(ssim_aeG_mnist_list)/len(ssim_aeG_mnist_list))\n",
    "print('PSNR of clean test images vs predicted denoised images') \n",
    "print(np.sum(psnr_aeG_mnist_list)/len(psnr_aeG_mnist_list))\n"
   ]
  }
 ],
 "metadata": {
  "accelerator": "GPU",
  "colab": {
   "name": "Denoising_Autoencoder.ipynb",
   "provenance": []
  },
  "kernelspec": {
   "display_name": "Python 3",
   "language": "python",
   "name": "python3"
  },
  "language_info": {
   "codemirror_mode": {
    "name": "ipython",
    "version": 3
   },
   "file_extension": ".py",
   "mimetype": "text/x-python",
   "name": "python",
   "nbconvert_exporter": "python",
   "pygments_lexer": "ipython3",
   "version": "3.7.6"
  }
 },
 "nbformat": 4,
 "nbformat_minor": 1
}
