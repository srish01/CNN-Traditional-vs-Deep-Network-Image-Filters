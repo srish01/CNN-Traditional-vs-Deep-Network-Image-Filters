{
  "nbformat": 4,
  "nbformat_minor": 0,
  "metadata": {
    "colab": {
      "name": "Denoising_Autoencoder.ipynb",
      "provenance": []
    },
    "kernelspec": {
      "name": "python3",
      "display_name": "Python 3"
    },
    "accelerator": "GPU"
  },
  "cells": [
    {
      "cell_type": "code",
      "metadata": {
        "id": "8PxMb-cOimvL",
        "colab_type": "code",
        "outputId": "08c85ab9-0e0d-4e70-93ab-6075c52c77a3",
        "colab": {
          "base_uri": "https://localhost:8080/",
          "height": 34
        }
      },
      "source": [
        "from sklearn import metrics\n",
        "import numpy as np\n",
        "import pandas as pd\n",
        "import matplotlib.pyplot as plt\n",
        "import tensorflow as tf\n",
        "from tensorflow.keras.datasets import mnist\n",
        "from tensorflow.keras.models import Sequential\n",
        "from tensorflow.keras.layers import Conv2D, MaxPooling2D, UpSampling2D\n",
        "from keras import optimizers\n",
        "import random\n",
        "from skimage import measure\n",
        "from skimage import util \n",
        "from skimage.util import random_noise"
      ],
      "execution_count": 1,
      "outputs": [
        {
          "output_type": "stream",
          "text": [
            "Using TensorFlow backend.\n"
          ],
          "name": "stderr"
        }
      ]
    },
    {
      "cell_type": "code",
      "metadata": {
        "id": "KsOl7JeYivOb",
        "colab_type": "code",
        "outputId": "e1e03e35-8ab9-44e4-a7e4-d592e04ec2bc",
        "colab": {
          "base_uri": "https://localhost:8080/",
          "height": 84
        }
      },
      "source": [
        " # We do not require the ground truth labelled data, hence not loading the y labels neither fro training nor for testing\n",
        "    \n",
        "(x_trainb,_), (x_testb,_) = mnist.load_data()\n",
        "\n",
        "print(x_trainb.shape)\n",
        "print(x_testb.shape)"
      ],
      "execution_count": 2,
      "outputs": [
        {
          "output_type": "stream",
          "text": [
            "Downloading data from https://storage.googleapis.com/tensorflow/tf-keras-datasets/mnist.npz\n",
            "11493376/11490434 [==============================] - 0s 0us/step\n",
            "(60000, 28, 28)\n",
            "(10000, 28, 28)\n"
          ],
          "name": "stdout"
        }
      ]
    },
    {
      "cell_type": "code",
      "metadata": {
        "id": "dHPnCc4V8aRr",
        "colab_type": "code",
        "colab": {}
      },
      "source": [
        "# taking inversion of mnist images (for white background and black digits)\n",
        "\n",
        "x_train = util.invert(x_trainb)\n",
        "x_test = util.invert(x_testb)"
      ],
      "execution_count": 0,
      "outputs": []
    },
    {
      "cell_type": "code",
      "metadata": {
        "id": "ASaUH2FUizKH",
        "colab_type": "code",
        "colab": {
          "base_uri": "https://localhost:8080/",
          "height": 34
        },
        "outputId": "c9f347db-5e19-4f67-a18b-5c8af64f479c"
      },
      "source": [
        "# Normalizing the pixel value between [0, 1]\n",
        "\n",
        "x_train = x_train.astype('float32') / 255.\n",
        "x_test = x_test.astype('float32') /255.\n",
        "\n",
        "# Reshaping the images \n",
        "\n",
        "x_train = np.reshape(x_train, (len(x_train), 28, 28, 1))\n",
        "x_test = np.reshape(x_test, (len(x_test), 28, 28, 1))\n",
        "\n",
        "#print(x_train[0])\n",
        "x_train.shape"
      ],
      "execution_count": 4,
      "outputs": [
        {
          "output_type": "execute_result",
          "data": {
            "text/plain": [
              "(60000, 28, 28, 1)"
            ]
          },
          "metadata": {
            "tags": []
          },
          "execution_count": 4
        }
      ]
    },
    {
      "cell_type": "code",
      "metadata": {
        "id": "u1nFSI4uoyPM",
        "colab_type": "code",
        "colab": {}
      },
      "source": [
        "# Creating function for gaussian noise\n",
        "def gaussian_noise(image,mean,variance):\n",
        "    img_noisy = image +  0.5 * np.random.normal(loc=mean, scale=variance, size = image.shape)\n",
        "    return img_noisy\n",
        "\n",
        "# Creating function for poisson noise\n",
        "def poisson(image):\n",
        "    p_noise = np.random.poisson(image)\n",
        "    return p_noise\n",
        "\n",
        "# Creating function for salt and paper noise\n",
        "\n",
        "# using direct library function for SnP noise \n",
        "    "
      ],
      "execution_count": 0,
      "outputs": []
    },
    {
      "cell_type": "code",
      "metadata": {
        "id": "U0oLf8TepMkU",
        "colab_type": "code",
        "colab": {}
      },
      "source": [
        "# Dividing training set into three groups of 20000 to later add noise in it\n",
        "\n",
        "x_train_1 = x_train[0:20000]\n",
        "x_train_2 = x_train[20000:40000]\n",
        "x_train_3 = x_train[40000:60000]"
      ],
      "execution_count": 0,
      "outputs": []
    },
    {
      "cell_type": "code",
      "metadata": {
        "id": "67ajBalhC-MM",
        "colab_type": "code",
        "outputId": "099e2518-dfd5-4966-920a-048d7c734e4d",
        "colab": {
          "base_uri": "https://localhost:8080/",
          "height": 34
        }
      },
      "source": [
        "x_train_3.shape[0]"
      ],
      "execution_count": 7,
      "outputs": [
        {
          "output_type": "execute_result",
          "data": {
            "text/plain": [
              "20000"
            ]
          },
          "metadata": {
            "tags": []
          },
          "execution_count": 7
        }
      ]
    },
    {
      "cell_type": "code",
      "metadata": {
        "id": "4LiMqc3dpjpQ",
        "colab_type": "code",
        "colab": {}
      },
      "source": [
        "# Adding Noise to training set\n",
        "\n",
        "noise_mask = np.zeros(x_train_2.shape)\n",
        "\n",
        "x_train_noise_G = []\n",
        "x_train_noise_P = np.zeros(x_train_2.shape)\n",
        "x_train_noise_SnP = np.zeros(x_train_3.shape)\n",
        "\n",
        "# Adding Gaussian to first 20,000 samples\n",
        "for i in range(len(x_train_1)):\n",
        "    x_train_noise_G.append(np.abs(gaussian_noise(x_train_1[i], mean=0.0, variance=0.3)))\n",
        "x_train_noise_G = np.array(x_train_noise_G) \n",
        "\n",
        "# Adding Poisson noise to second 20,000 samples\n",
        "for i in range (len(x_train_2)):\n",
        "    noise_mask = np.random.poisson(x_train_2[i])\n",
        "    x_train_noise_P[i] = x_train_2[i] + noise_mask\n",
        "\n",
        "# Adding Salt and Pepper noise to last 20,000 samples\n",
        "for i in range (len(x_train_3)):\n",
        "    x_train_noise_SnP[i] = random_noise(x_train_3[i], mode = 's&p', amount = 0.3)  \n",
        "x_train_noise_SnP = np.array(255*x_train_noise_SnP, dtype = 'uint8')\n",
        "   "
      ],
      "execution_count": 0,
      "outputs": []
    },
    {
      "cell_type": "code",
      "metadata": {
        "id": "7EgfnMyHMEwu",
        "colab_type": "code",
        "colab": {}
      },
      "source": [
        "# Adding Gaussian noise to complete testing data set\n",
        "\n",
        "x_test_noise_G = []\n",
        "\n",
        "for i in range(len(x_test)):\n",
        "    x_test_noise_G.append(np.abs(gaussian_noise(x_test[i], mean=0.0, variance=0.3)))\n",
        "x_test_noise_G = np.array(x_test_noise_G) "
      ],
      "execution_count": 0,
      "outputs": []
    },
    {
      "cell_type": "code",
      "metadata": {
        "id": "W1f3ISd5Y-I-",
        "colab_type": "code",
        "colab": {}
      },
      "source": [
        "# Adding Poisson noise to complete testing data set\n",
        "\n",
        "x_test_noise_P = np.zeros(x_test.shape)\n",
        "noise_mask = np.zeros(x_test.shape)\n",
        "\n",
        "for i in range (len(x_test)):\n",
        "    noise_mask = np.random.poisson(x_test[i])\n",
        "    x_test_noise_P[i] = x_test[i] + noise_mask\n"
      ],
      "execution_count": 0,
      "outputs": []
    },
    {
      "cell_type": "code",
      "metadata": {
        "id": "UaZvgQwWiXnA",
        "colab_type": "code",
        "colab": {}
      },
      "source": [
        "# Adding Salt and Pepper noise to complete testing data set\n",
        "\n",
        "x_test_noise_SnP = np.zeros(x_test.shape)\n",
        "\n",
        "for i in range (len(x_test)):\n",
        "    x_test_noise_SnP[i] = random_noise(x_test[i], mode = 's&p', amount = 0.3)\n",
        "x_test_noise_SnP = np.array(255*x_test_noise_SnP, dtype = 'uint8')"
      ],
      "execution_count": 0,
      "outputs": []
    },
    {
      "cell_type": "code",
      "metadata": {
        "id": "zqFEdjSbWaIa",
        "colab_type": "code",
        "outputId": "d722a57d-1229-4d1c-89d9-bafbf998e0c9",
        "colab": {
          "base_uri": "https://localhost:8080/",
          "height": 67
        }
      },
      "source": [
        "# Printing the size of all three noised testing data set\n",
        "\n",
        "print(x_test_noise_P.shape)\n",
        "print(x_test_noise_G.shape)\n",
        "print(x_test_noise_SnP.shape)\n"
      ],
      "execution_count": 13,
      "outputs": [
        {
          "output_type": "stream",
          "text": [
            "(10000, 28, 28, 1)\n",
            "(10000, 28, 28, 1)\n",
            "(10000, 28, 28, 1)\n"
          ],
          "name": "stdout"
        }
      ]
    },
    {
      "cell_type": "code",
      "metadata": {
        "id": "wkKbne615Ca-",
        "colab_type": "code",
        "outputId": "bbfc54a4-131d-439a-955d-b73c6544d05f",
        "colab": {
          "base_uri": "https://localhost:8080/",
          "height": 67
        }
      },
      "source": [
        "# Printing the shapes of the three subset of training dataset\n",
        "\n",
        "print(x_train_noise_P.shape)\n",
        "print(x_train_noise_G.shape)\n",
        "print(x_train_noise_SnP.shape)"
      ],
      "execution_count": 14,
      "outputs": [
        {
          "output_type": "stream",
          "text": [
            "(20000, 28, 28, 1)\n",
            "(20000, 28, 28, 1)\n",
            "(20000, 28, 28, 1)\n"
          ],
          "name": "stdout"
        }
      ]
    },
    {
      "cell_type": "code",
      "metadata": {
        "id": "40m65kJMyplb",
        "colab_type": "code",
        "outputId": "2a1e9913-f8b3-4adb-94de-01e37f6dddb6",
        "colab": {
          "base_uri": "https://localhost:8080/",
          "height": 34
        }
      },
      "source": [
        "# Creating the combined noised training dataset\n",
        "\n",
        "x_train_noisy = np.vstack((x_train_noise_G, x_train_noise_P, x_train_noise_SnP)) # SnP noise missing\n",
        "x_train_noisy.shape"
      ],
      "execution_count": 15,
      "outputs": [
        {
          "output_type": "execute_result",
          "data": {
            "text/plain": [
              "(60000, 28, 28, 1)"
            ]
          },
          "metadata": {
            "tags": []
          },
          "execution_count": 15
        }
      ]
    },
    {
      "cell_type": "code",
      "metadata": {
        "id": "N2uPaMyqysfR",
        "colab_type": "code",
        "outputId": "63c24f32-bb68-4398-cb48-1e2514960100",
        "colab": {
          "base_uri": "https://localhost:8080/",
          "height": 208
        }
      },
      "source": [
        "# Viewing sample before actual run\n",
        "\n",
        "x = x_train_noise_SnP[0:5]\n",
        "plt.figure(figsize=(20,3))\n",
        "for i in range (len(x)):\n",
        "  ax = plt.subplot(1,6,i+1)\n",
        "  plt.imshow(x[i].reshape(28,28), cmap = 'gray')"
      ],
      "execution_count": 16,
      "outputs": [
        {
          "output_type": "display_data",
          "data": {
            "image/png": "[encoded data removed]",
            "text/plain": [
              "<Figure size 1440x216 with 5 Axes>"
            ]
          },
          "metadata": {
            "tags": [],
            "needs_background": "light"
          }
        }
      ]
    },
    {
      "cell_type": "code",
      "metadata": {
        "id": "L7_ftAU5i3Dp",
        "colab_type": "code",
        "outputId": "ce918b65-3399-4a47-a6e3-bfa11f417c24",
        "colab": {
          "base_uri": "https://localhost:8080/",
          "height": 307
        }
      },
      "source": [
        "# Viewimg clean data and its noisy counterpart before actual training\n",
        "\n",
        "import matplotlib.pyplot as plt\n",
        "plt.figure(figsize=(10, 10))\n",
        "for i in range(5):\n",
        "    plt.subplot(1, 5, i+1)\n",
        "    plt.xticks([])\n",
        "    plt.yticks([])\n",
        "    plt.grid(False)\n",
        "    plt.imshow(x_train[i].reshape(28, 28), cmap='gray')\n",
        "plt.tight_layout()\n",
        "plt.show()\n",
        "\n",
        "plt.figure(figsize=(10, 10))\n",
        "for i in range(5):\n",
        "    plt.subplot(1, 5, i+1)\n",
        "    plt.xticks([])\n",
        "    plt.yticks([])\n",
        "    plt.grid(False)\n",
        "    plt.imshow(x_train_noisy[i].reshape(28, 28), cmap='gray')\n",
        "plt.tight_layout()\n",
        "plt.show()\n"
      ],
      "execution_count": 17,
      "outputs": [
        {
          "output_type": "display_data",
          "data": {
            "image/png": "[encoded data removed]",
            "text/plain": [
              "<Figure size 720x720 with 5 Axes>"
            ]
          },
          "metadata": {
            "tags": []
          }
        },
        {
          "output_type": "display_data",
          "data": {
            "image/png": "[encoded data removed]",
            "text/plain": [
              "<Figure size 720x720 with 5 Axes>"
            ]
          },
          "metadata": {
            "tags": []
          }
        }
      ]
    },
    {
      "cell_type": "code",
      "metadata": {
        "id": "Cv3fwYGLi7CG",
        "colab_type": "code",
        "outputId": "bc78e4c1-0591-4f99-c7e1-14f9879c1dc3",
        "colab": {
          "base_uri": "https://localhost:8080/",
          "height": 588
        }
      },
      "source": [
        "# Creating the model\n",
        "\n",
        "model = Sequential()\n",
        "\n",
        "# Encoding (or Compressing) images\n",
        "model.add(Conv2D(32,(3,3), activation = 'relu', padding = 'same', input_shape = (28, 28, 1)))\n",
        "# 32 -> dimentionality of the output space, relu -> activation function, padding is 'same' that results in padding the \n",
        "# input such that the output has the same length as the original input\n",
        "model.add(MaxPooling2D((2,2), padding = 'same'))\n",
        "# Downscaling by a factor of 2x2\n",
        "model.add(Conv2D(8,(3,3), activation = 'relu', padding = 'same'))\n",
        "model.add(MaxPooling2D((2,2), padding = 'same'))\n",
        "model.add(Conv2D(8,(3,3), activation = 'relu', padding = 'same'))\n",
        "model.add(MaxPooling2D((2,2), padding = 'same'))\n",
        "\n",
        "# Decoding (or Decompressing) images\n",
        "model.add(Conv2D(8,(3,3), activation = 'relu', padding = 'same'))\n",
        "model.add(UpSampling2D((2,2)))\n",
        "model.add(Conv2D(8,(3,3), activation = 'relu', padding = 'same'))\n",
        "model.add(UpSampling2D((2,2)))\n",
        "model.add(Conv2D(32,(3,3), activation = 'relu'))\n",
        "model.add(UpSampling2D((2,2)))\n",
        "model.add(Conv2D(1,(3,3), activation = 'relu', padding = 'same'))\n",
        "\n",
        "\n",
        "model.compile(optimizer='adam', loss = 'mean_squared_error')\n",
        "\n",
        "model.summary()"
      ],
      "execution_count": 18,
      "outputs": [
        {
          "output_type": "stream",
          "text": [
            "Model: \"sequential\"\n",
            "_________________________________________________________________\n",
            "Layer (type)                 Output Shape              Param #   \n",
            "=================================================================\n",
            "conv2d (Conv2D)              (None, 28, 28, 32)        320       \n",
            "_________________________________________________________________\n",
            "max_pooling2d (MaxPooling2D) (None, 14, 14, 32)        0         \n",
            "_________________________________________________________________\n",
            "conv2d_1 (Conv2D)            (None, 14, 14, 8)         2312      \n",
            "_________________________________________________________________\n",
            "max_pooling2d_1 (MaxPooling2 (None, 7, 7, 8)           0         \n",
            "_________________________________________________________________\n",
            "conv2d_2 (Conv2D)            (None, 7, 7, 8)           584       \n",
            "_________________________________________________________________\n",
            "max_pooling2d_2 (MaxPooling2 (None, 4, 4, 8)           0         \n",
            "_________________________________________________________________\n",
            "conv2d_3 (Conv2D)            (None, 4, 4, 8)           584       \n",
            "_________________________________________________________________\n",
            "up_sampling2d (UpSampling2D) (None, 8, 8, 8)           0         \n",
            "_________________________________________________________________\n",
            "conv2d_4 (Conv2D)            (None, 8, 8, 8)           584       \n",
            "_________________________________________________________________\n",
            "up_sampling2d_1 (UpSampling2 (None, 16, 16, 8)         0         \n",
            "_________________________________________________________________\n",
            "conv2d_5 (Conv2D)            (None, 14, 14, 32)        2336      \n",
            "_________________________________________________________________\n",
            "up_sampling2d_2 (UpSampling2 (None, 28, 28, 32)        0         \n",
            "_________________________________________________________________\n",
            "conv2d_6 (Conv2D)            (None, 28, 28, 1)         289       \n",
            "=================================================================\n",
            "Total params: 7,009\n",
            "Trainable params: 7,009\n",
            "Non-trainable params: 0\n",
            "_________________________________________________________________\n"
          ],
          "name": "stdout"
        }
      ]
    },
    {
      "cell_type": "code",
      "metadata": {
        "id": "QaLCNL3njMKO",
        "colab_type": "code",
        "colab": {}
      },
      "source": [
        "# Using early stopping \n",
        "\n",
        "from tensorflow.keras.callbacks import EarlyStopping\n",
        "early_stopper = EarlyStopping(monitor='val_loss', min_delta=0, patience=10, verbose=1, mode='auto')"
      ],
      "execution_count": 0,
      "outputs": []
    },
    {
      "cell_type": "code",
      "metadata": {
        "id": "fe_l9l2Pkr3j",
        "colab_type": "code",
        "outputId": "3087a4c5-a0ef-4fe2-c7c8-95541b246cd1",
        "colab": {
          "base_uri": "https://localhost:8080/",
          "height": 1000
        }
      },
      "source": [
        "# Training the model with epoch size 100 and batch size 128\n",
        " \n",
        "model.fit(x_train_noisy, x_train,\n",
        "                epochs=100,\n",
        "                batch_size=128,\n",
        "                shuffle=True,\n",
        "                validation_data=(x_test_noise_G, x_test),\n",
        "                callbacks=[early_stopper])"
      ],
      "execution_count": 20,
      "outputs": [
        {
          "output_type": "stream",
          "text": [
            "Epoch 1/100\n",
            "469/469 [==============================] - 3s 7ms/step - loss: 0.1572 - val_loss: 0.0671\n",
            "Epoch 2/100\n",
            "469/469 [==============================] - 3s 6ms/step - loss: 0.0572 - val_loss: 0.0444\n",
            "Epoch 3/100\n",
            "469/469 [==============================] - 3s 6ms/step - loss: 0.0473 - val_loss: 0.0379\n",
            "Epoch 4/100\n",
            "469/469 [==============================] - 3s 6ms/step - loss: 0.0430 - val_loss: 0.0345\n",
            "Epoch 5/100\n",
            "469/469 [==============================] - 3s 6ms/step - loss: 0.0406 - val_loss: 0.0322\n",
            "Epoch 6/100\n",
            "469/469 [==============================] - 3s 6ms/step - loss: 0.0387 - val_loss: 0.0315\n",
            "Epoch 7/100\n",
            "469/469 [==============================] - 3s 6ms/step - loss: 0.0374 - val_loss: 0.0296\n",
            "Epoch 8/100\n",
            "469/469 [==============================] - 3s 6ms/step - loss: 0.0362 - val_loss: 0.0282\n",
            "Epoch 9/100\n",
            "469/469 [==============================] - 3s 6ms/step - loss: 0.0350 - val_loss: 0.0269\n",
            "Epoch 10/100\n",
            "469/469 [==============================] - 3s 6ms/step - loss: 0.0340 - val_loss: 0.0260\n",
            "Epoch 11/100\n",
            "469/469 [==============================] - 3s 6ms/step - loss: 0.0333 - val_loss: 0.0251\n",
            "Epoch 12/100\n",
            "469/469 [==============================] - 3s 6ms/step - loss: 0.0326 - val_loss: 0.0249\n",
            "Epoch 13/100\n",
            "469/469 [==============================] - 3s 6ms/step - loss: 0.0320 - val_loss: 0.0242\n",
            "Epoch 14/100\n",
            "469/469 [==============================] - 3s 6ms/step - loss: 0.0314 - val_loss: 0.0237\n",
            "Epoch 15/100\n",
            "469/469 [==============================] - 3s 6ms/step - loss: 0.0308 - val_loss: 0.0230\n",
            "Epoch 16/100\n",
            "469/469 [==============================] - 3s 6ms/step - loss: 0.0303 - val_loss: 0.0223\n",
            "Epoch 17/100\n",
            "469/469 [==============================] - 3s 6ms/step - loss: 0.0297 - val_loss: 0.0221\n",
            "Epoch 18/100\n",
            "469/469 [==============================] - 3s 6ms/step - loss: 0.0293 - val_loss: 0.0225\n",
            "Epoch 19/100\n",
            "469/469 [==============================] - 3s 6ms/step - loss: 0.0289 - val_loss: 0.0209\n",
            "Epoch 20/100\n",
            "469/469 [==============================] - 3s 6ms/step - loss: 0.0285 - val_loss: 0.0207\n",
            "Epoch 21/100\n",
            "469/469 [==============================] - 3s 6ms/step - loss: 0.0282 - val_loss: 0.0203\n",
            "Epoch 22/100\n",
            "469/469 [==============================] - 3s 6ms/step - loss: 0.0279 - val_loss: 0.0202\n",
            "Epoch 23/100\n",
            "469/469 [==============================] - 3s 6ms/step - loss: 0.0277 - val_loss: 0.0199\n",
            "Epoch 24/100\n",
            "469/469 [==============================] - 3s 6ms/step - loss: 0.0274 - val_loss: 0.0196\n",
            "Epoch 25/100\n",
            "469/469 [==============================] - 3s 6ms/step - loss: 0.0272 - val_loss: 0.0196\n",
            "Epoch 26/100\n",
            "469/469 [==============================] - 3s 6ms/step - loss: 0.0271 - val_loss: 0.0197\n",
            "Epoch 27/100\n",
            "469/469 [==============================] - 3s 6ms/step - loss: 0.0269 - val_loss: 0.0191\n",
            "Epoch 28/100\n",
            "469/469 [==============================] - 3s 6ms/step - loss: 0.0268 - val_loss: 0.0190\n",
            "Epoch 29/100\n",
            "469/469 [==============================] - 3s 6ms/step - loss: 0.0266 - val_loss: 0.0188\n",
            "Epoch 30/100\n",
            "469/469 [==============================] - 3s 7ms/step - loss: 0.0264 - val_loss: 0.0188\n",
            "Epoch 31/100\n",
            "469/469 [==============================] - 3s 6ms/step - loss: 0.0263 - val_loss: 0.0187\n",
            "Epoch 32/100\n",
            "469/469 [==============================] - 3s 6ms/step - loss: 0.0262 - val_loss: 0.0184\n",
            "Epoch 33/100\n",
            "469/469 [==============================] - 3s 6ms/step - loss: 0.0261 - val_loss: 0.0184\n",
            "Epoch 34/100\n",
            "469/469 [==============================] - 3s 6ms/step - loss: 0.0259 - val_loss: 0.0182\n",
            "Epoch 35/100\n",
            "469/469 [==============================] - 3s 6ms/step - loss: 0.0259 - val_loss: 0.0187\n",
            "Epoch 36/100\n",
            "469/469 [==============================] - 3s 6ms/step - loss: 0.0258 - val_loss: 0.0180\n",
            "Epoch 37/100\n",
            "469/469 [==============================] - 3s 6ms/step - loss: 0.0257 - val_loss: 0.0183\n",
            "Epoch 38/100\n",
            "469/469 [==============================] - 3s 6ms/step - loss: 0.0256 - val_loss: 0.0178\n",
            "Epoch 39/100\n",
            "469/469 [==============================] - 3s 6ms/step - loss: 0.0255 - val_loss: 0.0177\n",
            "Epoch 40/100\n",
            "469/469 [==============================] - 3s 6ms/step - loss: 0.0254 - val_loss: 0.0179\n",
            "Epoch 41/100\n",
            "469/469 [==============================] - 3s 6ms/step - loss: 0.0253 - val_loss: 0.0178\n",
            "Epoch 42/100\n",
            "469/469 [==============================] - 3s 6ms/step - loss: 0.0253 - val_loss: 0.0185\n",
            "Epoch 43/100\n",
            "469/469 [==============================] - 3s 6ms/step - loss: 0.0251 - val_loss: 0.0174\n",
            "Epoch 44/100\n",
            "469/469 [==============================] - 3s 6ms/step - loss: 0.0251 - val_loss: 0.0173\n",
            "Epoch 45/100\n",
            "469/469 [==============================] - 3s 6ms/step - loss: 0.0250 - val_loss: 0.0173\n",
            "Epoch 46/100\n",
            "469/469 [==============================] - 3s 6ms/step - loss: 0.0255 - val_loss: 0.0179\n",
            "Epoch 47/100\n",
            "469/469 [==============================] - 3s 6ms/step - loss: 0.0249 - val_loss: 0.0171\n",
            "Epoch 48/100\n",
            "469/469 [==============================] - 3s 6ms/step - loss: 0.0248 - val_loss: 0.0175\n",
            "Epoch 49/100\n",
            "469/469 [==============================] - 3s 6ms/step - loss: 0.0247 - val_loss: 0.0170\n",
            "Epoch 50/100\n",
            "469/469 [==============================] - 3s 6ms/step - loss: 0.0247 - val_loss: 0.0171\n",
            "Epoch 51/100\n",
            "469/469 [==============================] - 3s 6ms/step - loss: 0.0246 - val_loss: 0.0170\n",
            "Epoch 52/100\n",
            "469/469 [==============================] - 3s 6ms/step - loss: 0.0245 - val_loss: 0.0171\n",
            "Epoch 53/100\n",
            "469/469 [==============================] - 3s 6ms/step - loss: 0.0245 - val_loss: 0.0167\n",
            "Epoch 54/100\n",
            "469/469 [==============================] - 3s 6ms/step - loss: 0.0244 - val_loss: 0.0167\n",
            "Epoch 55/100\n",
            "469/469 [==============================] - 3s 6ms/step - loss: 0.0244 - val_loss: 0.0170\n",
            "Epoch 56/100\n",
            "469/469 [==============================] - 3s 6ms/step - loss: 0.0244 - val_loss: 0.0170\n",
            "Epoch 57/100\n",
            "469/469 [==============================] - 3s 6ms/step - loss: 0.0243 - val_loss: 0.0169\n",
            "Epoch 58/100\n",
            "469/469 [==============================] - 3s 6ms/step - loss: 0.0242 - val_loss: 0.0165\n",
            "Epoch 59/100\n",
            "469/469 [==============================] - 3s 6ms/step - loss: 0.0242 - val_loss: 0.0164\n",
            "Epoch 60/100\n",
            "469/469 [==============================] - 3s 6ms/step - loss: 0.0241 - val_loss: 0.0165\n",
            "Epoch 61/100\n",
            "469/469 [==============================] - 3s 6ms/step - loss: 0.0240 - val_loss: 0.0164\n",
            "Epoch 62/100\n",
            "469/469 [==============================] - 3s 6ms/step - loss: 0.0241 - val_loss: 0.0163\n",
            "Epoch 63/100\n",
            "469/469 [==============================] - 3s 6ms/step - loss: 0.0240 - val_loss: 0.0163\n",
            "Epoch 64/100\n",
            "469/469 [==============================] - 3s 6ms/step - loss: 0.0239 - val_loss: 0.0166\n",
            "Epoch 65/100\n",
            "469/469 [==============================] - 3s 6ms/step - loss: 0.0239 - val_loss: 0.0163\n",
            "Epoch 66/100\n",
            "469/469 [==============================] - 3s 6ms/step - loss: 0.0239 - val_loss: 0.0162\n",
            "Epoch 67/100\n",
            "469/469 [==============================] - 3s 6ms/step - loss: 0.0238 - val_loss: 0.0162\n",
            "Epoch 68/100\n",
            "469/469 [==============================] - 3s 6ms/step - loss: 0.0238 - val_loss: 0.0163\n",
            "Epoch 69/100\n",
            "469/469 [==============================] - 3s 6ms/step - loss: 0.0237 - val_loss: 0.0162\n",
            "Epoch 70/100\n",
            "469/469 [==============================] - 3s 6ms/step - loss: 0.0237 - val_loss: 0.0161\n",
            "Epoch 71/100\n",
            "469/469 [==============================] - 3s 6ms/step - loss: 0.0237 - val_loss: 0.0158\n",
            "Epoch 72/100\n",
            "469/469 [==============================] - 3s 6ms/step - loss: 0.0236 - val_loss: 0.0160\n",
            "Epoch 73/100\n",
            "469/469 [==============================] - 3s 6ms/step - loss: 0.0236 - val_loss: 0.0160\n",
            "Epoch 74/100\n",
            "469/469 [==============================] - 3s 6ms/step - loss: 0.0236 - val_loss: 0.0158\n",
            "Epoch 75/100\n",
            "469/469 [==============================] - 3s 6ms/step - loss: 0.0236 - val_loss: 0.0160\n",
            "Epoch 76/100\n",
            "469/469 [==============================] - 3s 6ms/step - loss: 0.0236 - val_loss: 0.0158\n",
            "Epoch 77/100\n",
            "469/469 [==============================] - 3s 6ms/step - loss: 0.0235 - val_loss: 0.0158\n",
            "Epoch 78/100\n",
            "469/469 [==============================] - 3s 6ms/step - loss: 0.0235 - val_loss: 0.0157\n",
            "Epoch 79/100\n",
            "469/469 [==============================] - 3s 6ms/step - loss: 0.0234 - val_loss: 0.0157\n",
            "Epoch 80/100\n",
            "469/469 [==============================] - 3s 6ms/step - loss: 0.0235 - val_loss: 0.0157\n",
            "Epoch 81/100\n",
            "469/469 [==============================] - 3s 6ms/step - loss: 0.0235 - val_loss: 0.0156\n",
            "Epoch 82/100\n",
            "469/469 [==============================] - 3s 6ms/step - loss: 0.0235 - val_loss: 0.0156\n",
            "Epoch 83/100\n",
            "469/469 [==============================] - 3s 6ms/step - loss: 0.0233 - val_loss: 0.0158\n",
            "Epoch 84/100\n",
            "469/469 [==============================] - 3s 6ms/step - loss: 0.0234 - val_loss: 0.0157\n",
            "Epoch 85/100\n",
            "469/469 [==============================] - 3s 6ms/step - loss: 0.0234 - val_loss: 0.0156\n",
            "Epoch 86/100\n",
            "469/469 [==============================] - 3s 6ms/step - loss: 0.0233 - val_loss: 0.0155\n",
            "Epoch 87/100\n",
            "469/469 [==============================] - 3s 6ms/step - loss: 0.0233 - val_loss: 0.0156\n",
            "Epoch 88/100\n",
            "469/469 [==============================] - 3s 6ms/step - loss: 0.0233 - val_loss: 0.0157\n",
            "Epoch 89/100\n",
            "469/469 [==============================] - 3s 6ms/step - loss: 0.0234 - val_loss: 0.0155\n",
            "Epoch 90/100\n",
            "469/469 [==============================] - 3s 6ms/step - loss: 0.0232 - val_loss: 0.0155\n",
            "Epoch 91/100\n",
            "469/469 [==============================] - 3s 6ms/step - loss: 0.0233 - val_loss: 0.0164\n",
            "Epoch 92/100\n",
            "469/469 [==============================] - 3s 6ms/step - loss: 0.0232 - val_loss: 0.0155\n",
            "Epoch 93/100\n",
            "469/469 [==============================] - 3s 6ms/step - loss: 0.0232 - val_loss: 0.0154\n",
            "Epoch 94/100\n",
            "469/469 [==============================] - 3s 6ms/step - loss: 0.0232 - val_loss: 0.0157\n",
            "Epoch 95/100\n",
            "469/469 [==============================] - 3s 6ms/step - loss: 0.0232 - val_loss: 0.0154\n",
            "Epoch 96/100\n",
            "469/469 [==============================] - 3s 6ms/step - loss: 0.0232 - val_loss: 0.0154\n",
            "Epoch 97/100\n",
            "469/469 [==============================] - 3s 6ms/step - loss: 0.0231 - val_loss: 0.0154\n",
            "Epoch 98/100\n",
            "469/469 [==============================] - 3s 6ms/step - loss: 0.0231 - val_loss: 0.0156\n",
            "Epoch 99/100\n",
            "469/469 [==============================] - 3s 6ms/step - loss: 0.0231 - val_loss: 0.0155\n",
            "Epoch 100/100\n",
            "469/469 [==============================] - 3s 6ms/step - loss: 0.0231 - val_loss: 0.0154\n"
          ],
          "name": "stdout"
        },
        {
          "output_type": "execute_result",
          "data": {
            "text/plain": [
              "<tensorflow.python.keras.callbacks.History at 0x7fd4004ef198>"
            ]
          },
          "metadata": {
            "tags": []
          },
          "execution_count": 20
        }
      ]
    },
    {
      "cell_type": "code",
      "metadata": {
        "id": "_qVJsNJXmJtP",
        "colab_type": "code",
        "outputId": "736f9fc6-277b-4530-a4b6-c896daf5c9f0",
        "colab": {
          "base_uri": "https://localhost:8080/",
          "height": 104
        }
      },
      "source": [
        "# Saving the weights\n",
        "\n",
        "model.save('DenoisingAutoencoder.model')"
      ],
      "execution_count": 21,
      "outputs": [
        {
          "output_type": "stream",
          "text": [
            "WARNING:tensorflow:From /usr/local/lib/python3.6/dist-packages/tensorflow/python/ops/resource_variable_ops.py:1817: calling BaseResourceVariable.__init__ (from tensorflow.python.ops.resource_variable_ops) with constraint is deprecated and will be removed in a future version.\n",
            "Instructions for updating:\n",
            "If using Keras pass *_constraint arguments to layers.\n",
            "INFO:tensorflow:Assets written to: DenoisingAutoencoder.model/assets\n"
          ],
          "name": "stdout"
        }
      ]
    },
    {
      "cell_type": "code",
      "metadata": {
        "id": "Xnvi0w7foWx5",
        "colab_type": "code",
        "colab": {}
      },
      "source": [
        "# Predicting the reconstructed denoised images of Poisson noise images\n",
        "x_pred_P = model.predict(x_test_noise_P)"
      ],
      "execution_count": 0,
      "outputs": []
    },
    {
      "cell_type": "code",
      "metadata": {
        "id": "S__0uKZtoa84",
        "colab_type": "code",
        "outputId": "f39ddffc-b2e5-4e2a-8fd4-c247771ceab0",
        "colab": {
          "base_uri": "https://localhost:8080/",
          "height": 469
        }
      },
      "source": [
        "# Poisson Noise reconstruction from Autoencoder\n",
        "\n",
        "plt.figure(figsize=(10,10))\n",
        "for i in range(5):\n",
        "    plt.subplot(1, 5, i+1)\n",
        "    plt.xticks([]) # to remove x-axis  the [] empty list indicates this\n",
        "    plt.yticks([]) # to remove y-axis\n",
        "    plt.grid(False) # to remove grid\n",
        "    plt.imshow(x_test[i].reshape(28, 28), cmap='gray') #display the image \n",
        "plt.tight_layout() # to have a proper space in the subplots\n",
        "plt.show()\n",
        "\n",
        "plt.figure(figsize=(10,10))\n",
        "for i in range(5):\n",
        "    plt.subplot(1, 5, i+1)\n",
        "    plt.xticks([]) # to remove x-axis  the [] empty list indicates this\n",
        "    plt.yticks([]) # to remove y-axis\n",
        "    plt.grid(False) # to remove grid\n",
        "    plt.imshow(x_test_noise_P[i].reshape(28, 28), cmap='gray') #display the image \n",
        "plt.tight_layout() # to have a proper space in the subplots\n",
        "plt.show()\n",
        "\n",
        "# to visualize reconstructed images(output of autoencoder)\n",
        "\n",
        "plt.figure(figsize=(10,10))\n",
        "for i in range(5):\n",
        "    plt.subplot(1, 5, i+1)\n",
        "    plt.xticks([]) # to remove x-axis  the [] empty list indicates this\n",
        "    plt.yticks([]) # to remove y-axis\n",
        "    plt.grid(False) # to remove grid\n",
        "    #plt.title('Predicted Images by Autoencoder', fontsize=10)\n",
        "    plt.imshow(x_pred_P[i].reshape(28, 28), cmap='gray') #display the image \n",
        "plt.tight_layout() # to have a proper space in the subplots\n",
        "plt.show()\n",
        "plt.savefig(\"Denoising Autoencoder + Poisson Noise\", bbox_inches='tight', format = 'png')"
      ],
      "execution_count": 24,
      "outputs": [
        {
          "output_type": "display_data",
          "data": {
            "image/png": "[encoded data removed]",
            "text/plain": [
              "<Figure size 720x720 with 5 Axes>"
            ]
          },
          "metadata": {
            "tags": []
          }
        },
        {
          "output_type": "display_data",
          "data": {
            "image/png": "[encoded data removed]",
            "text/plain": [
              "<Figure size 720x720 with 5 Axes>"
            ]
          },
          "metadata": {
            "tags": []
          }
        },
        {
          "output_type": "display_data",
          "data": {
            "image/png": "[encoded data removed]",
            "text/plain": [
              "<Figure size 720x720 with 5 Axes>"
            ]
          },
          "metadata": {
            "tags": []
          }
        },
        {
          "output_type": "display_data",
          "data": {
            "text/plain": [
              "<Figure size 432x288 with 0 Axes>"
            ]
          },
          "metadata": {
            "tags": []
          }
        }
      ]
    },
    {
      "cell_type": "code",
      "metadata": {
        "id": "llr7FLNKomsb",
        "colab_type": "code",
        "outputId": "61d4d1c2-17aa-4db4-fb5e-c5bcdf769af9",
        "colab": {
          "base_uri": "https://localhost:8080/",
          "height": 171
        }
      },
      "source": [
        "# Calculating average SSIM and PSNR for 10000 samples of Poisson noised images \n",
        "\n",
        "ssim_aeP_mnist = 0\n",
        "ssim_aeP_mnist_list =[]\n",
        "psnr_aeP_mnist_list = []\n",
        "                       \n",
        "\n",
        "for i in range (len(x_test)):\n",
        "    ssim_aeP_mnist = measure.compare_ssim(x_pred_P[i], x_test[i],multichannel = True, win_size = None)\n",
        "    ssim_aeP_mnist_list.append(ssim_aeP_mnist)\n",
        "    psnr_aeP_mnist = measure.compare_psnr(x_test[i], x_pred_P[i])\n",
        "    psnr_aeP_mnist_list.append(psnr_aeP_mnist)\n",
        "\n",
        "print('Average SSIM of clean test images vs predicted denoised images') \n",
        "print(np.sum(ssim_aeP_mnist_list)/len(ssim_aeP_mnist_list))\n",
        "print('Average PSNR of predicted denoised images') \n",
        "print(np.sum(psnr_aeP_mnist_list)/len(psnr_aeP_mnist_list))"
      ],
      "execution_count": 25,
      "outputs": [
        {
          "output_type": "stream",
          "text": [
            "/usr/local/lib/python3.6/dist-packages/ipykernel_launcher.py:8: UserWarning: DEPRECATED: skimage.measure.compare_ssim has been moved to skimage.metrics.structural_similarity. It will be removed from skimage.measure in version 0.18.\n",
            "  \n",
            "/usr/local/lib/python3.6/dist-packages/ipykernel_launcher.py:10: UserWarning: DEPRECATED: skimage.measure.compare_psnr has been moved to skimage.metrics.peak_signal_noise_ratio. It will be removed from skimage.measure in version 0.18.\n",
            "  # Remove the CWD from sys.path while we load stuff.\n"
          ],
          "name": "stderr"
        },
        {
          "output_type": "stream",
          "text": [
            "Average SSIM of clean test images vs predicted denoised images\n",
            "0.8617972373802253\n",
            "Average PSNR of predicted denoised images\n",
            "18.65735090877798\n"
          ],
          "name": "stdout"
        }
      ]
    },
    {
      "cell_type": "code",
      "metadata": {
        "id": "So5xm69gMKQD",
        "colab_type": "code",
        "colab": {}
      },
      "source": [
        "#Predicting reconstructed denoised images of Gaussian noise images\n",
        "\n",
        "x_pred_G = model.predict(x_test_noise_G)"
      ],
      "execution_count": 0,
      "outputs": []
    },
    {
      "cell_type": "code",
      "metadata": {
        "id": "IM42JumM1Pdn",
        "colab_type": "code",
        "outputId": "824e1b53-a13a-4a4d-8769-a97abcbca7a9",
        "colab": {
          "base_uri": "https://localhost:8080/",
          "height": 469
        }
      },
      "source": [
        "# Gaussian Noise reconstruction from Autoencoder\n",
        "\n",
        "plt.figure(figsize=(10,10))\n",
        "for i in range(5):\n",
        "    plt.subplot(1, 5, i+1)\n",
        "    plt.xticks([]) # to remove x-axis  the [] empty list indicates this\n",
        "    plt.yticks([]) # to remove y-axis\n",
        "    plt.grid(False) # to remove grid\n",
        "    plt.imshow(x_test[i].reshape(28, 28), cmap='gray') #display the image \n",
        "plt.tight_layout() # to have a proper space in the subplots\n",
        "plt.show()\n",
        "\n",
        "plt.figure(figsize=(10,10))\n",
        "for i in range(5):\n",
        "    plt.subplot(1, 5, i+1)\n",
        "    plt.xticks([]) # to remove x-axis  the [] empty list indicates this\n",
        "    plt.yticks([]) # to remove y-axis\n",
        "    plt.grid(False) # to remove grid\n",
        "    plt.imshow(x_test_noise_G[i].reshape(28, 28), cmap='gray') #display the image \n",
        "plt.tight_layout() # to have a proper space in the subplots\n",
        "plt.show()\n",
        "\n",
        "# to visualize reconstructed images(output of autoencoder)\n",
        "\n",
        "plt.figure(figsize=(10,10))\n",
        "for i in range(5):\n",
        "    plt.subplot(1, 5, i+1)\n",
        "    plt.xticks([]) # to remove x-axis  the [] empty list indicates this\n",
        "    plt.yticks([]) # to remove y-axis\n",
        "    plt.grid(False) # to remove grid\n",
        "    plt.imshow(x_pred_G[i].reshape(28, 28), cmap='gray') #display the image \n",
        "plt.tight_layout() # to have a proper space in the subplots\n",
        "plt.show()\n",
        "plt.savefig(\"Denoising Autoencoder + Gaussian Noise\", bbox_inches='tight', format = 'png')"
      ],
      "execution_count": 27,
      "outputs": [
        {
          "output_type": "display_data",
          "data": {
            "image/png": "[encoded data removed]",
            "text/plain": [
              "<Figure size 720x720 with 5 Axes>"
            ]
          },
          "metadata": {
            "tags": []
          }
        },
        {
          "output_type": "display_data",
          "data": {
            "image/png": "[encoded data removed]",
            "text/plain": [
              "<Figure size 720x720 with 5 Axes>"
            ]
          },
          "metadata": {
            "tags": []
          }
        },
        {
          "output_type": "display_data",
          "data": {
            "image/png": "[encoded data removed]",
            "text/plain": [
              "<Figure size 720x720 with 5 Axes>"
            ]
          },
          "metadata": {
            "tags": []
          }
        },
        {
          "output_type": "display_data",
          "data": {
            "text/plain": [
              "<Figure size 432x288 with 0 Axes>"
            ]
          },
          "metadata": {
            "tags": []
          }
        }
      ]
    },
    {
      "cell_type": "code",
      "metadata": {
        "id": "mD3hk7NjMmkq",
        "colab_type": "code",
        "outputId": "a471888e-20bd-4620-fbb9-4be46bb34f29",
        "colab": {
          "base_uri": "https://localhost:8080/",
          "height": 171
        }
      },
      "source": [
        "# Calculating average SSIM and PSNR for 10000 samples of Gaussian noised images \n",
        "\n",
        "\n",
        "ssim_aeG_mnist = 0\n",
        "ssim_aeG_mnist_list =[]\n",
        "psnr_aeG_mnist_list = []\n",
        "                       \n",
        "\n",
        "for i in range (len(x_test)):\n",
        "    ssim_aeG_mnist = measure.compare_ssim(x_pred_G[i], x_test[i],multichannel = True, win_size = None)\n",
        "    ssim_aeG_mnist_list.append(ssim_aeG_mnist)\n",
        "    psnr_aeG_mnist = measure.compare_psnr(x_test[i], x_pred_G[i])\n",
        "    psnr_aeG_mnist_list.append(psnr_aeG_mnist)\n",
        "\n",
        "print('Average SSIM of clean test images vs predicted denoised images') \n",
        "print(np.sum(ssim_aeG_mnist_list)/len(ssim_aeG_mnist_list))\n",
        "print('Average PSNR of predicted denoised images') \n",
        "print(np.sum(psnr_aeG_mnist_list)/len(psnr_aeG_mnist_list))"
      ],
      "execution_count": 28,
      "outputs": [
        {
          "output_type": "stream",
          "text": [
            "/usr/local/lib/python3.6/dist-packages/ipykernel_launcher.py:9: UserWarning: DEPRECATED: skimage.measure.compare_ssim has been moved to skimage.metrics.structural_similarity. It will be removed from skimage.measure in version 0.18.\n",
            "  if __name__ == '__main__':\n",
            "/usr/local/lib/python3.6/dist-packages/ipykernel_launcher.py:11: UserWarning: DEPRECATED: skimage.measure.compare_psnr has been moved to skimage.metrics.peak_signal_noise_ratio. It will be removed from skimage.measure in version 0.18.\n",
            "  # This is added back by InteractiveShellApp.init_path()\n"
          ],
          "name": "stderr"
        },
        {
          "output_type": "stream",
          "text": [
            "Average SSIM of clean test images vs predicted denoised images\n",
            "0.8630922519160813\n",
            "Average PSNR of predicted denoised images\n",
            "18.62476046800183\n"
          ],
          "name": "stdout"
        }
      ]
    },
    {
      "cell_type": "code",
      "metadata": {
        "id": "w50r0n1_M0_0",
        "colab_type": "code",
        "colab": {}
      },
      "source": [
        "#Predicting reconstructed denoised images of Salt and Pepper noise images\n",
        "\n",
        "x_pred_SnP = model.predict(x_test_noise_SnP)"
      ],
      "execution_count": 0,
      "outputs": []
    },
    {
      "cell_type": "code",
      "metadata": {
        "id": "Zld5hZ8cNynS",
        "colab_type": "code",
        "outputId": "902e2cd9-e441-4e07-cd37-edd5edf2abf0",
        "colab": {
          "base_uri": "https://localhost:8080/",
          "height": 469
        }
      },
      "source": [
        "# Salt and Pepper Noise reconstruction from Autoencoder\n",
        "\n",
        "plt.figure(figsize=(10,10))\n",
        "for i in range(5):\n",
        "    plt.subplot(1, 5, i+1)\n",
        "    plt.xticks([]) # to remove x-axis  the [] empty list indicates this\n",
        "    plt.yticks([]) # to remove y-axis\n",
        "    plt.grid(False) # to remove grid\n",
        "    plt.imshow(x_test[i].reshape(28, 28), cmap='gray') #display the image \n",
        "plt.tight_layout() # to have a proper space in the subplots\n",
        "plt.show()\n",
        "\n",
        "plt.figure(figsize=(10,10))\n",
        "for i in range(5):\n",
        "    plt.subplot(1, 5, i+1)\n",
        "    plt.xticks([]) # to remove x-axis  the [] empty list indicates this\n",
        "    plt.yticks([]) # to remove y-axis\n",
        "    plt.grid(False) # to remove grid\n",
        "    plt.imshow(x_test_noise_SnP[i].reshape(28, 28), cmap='gray') #display the image \n",
        "plt.tight_layout() # to have a proper space in the subplots\n",
        "plt.show()\n",
        "\n",
        "# to visualize reconstructed images(output of autoencoder)\n",
        "plt.figure(figsize=(10,10))\n",
        "for i in range(5):\n",
        "    plt.subplot(1, 5, i+1)\n",
        "    plt.xticks([]) # to remove x-axis  the [] empty list indicates this\n",
        "    plt.yticks([]) # to remove y-axis\n",
        "    plt.grid(False) # to remove grid\n",
        "    plt.imshow(x_pred_SnP[i].reshape(28, 28), cmap='gray') #display the image \n",
        "plt.tight_layout() # to have a proper space in the subplots\n",
        "plt.show()\n",
        "plt.savefig(\"Denoising Autoencoder + Salt and Pepper Noise\", bbox_inches='tight', format = 'png')"
      ],
      "execution_count": 30,
      "outputs": [
        {
          "output_type": "display_data",
          "data": {
            "image/png": "[encoded data removed]",
            "text/plain": [
              "<Figure size 720x720 with 5 Axes>"
            ]
          },
          "metadata": {
            "tags": []
          }
        },
        {
          "output_type": "display_data",
          "data": {
            "image/png": "[encoded data removed]",
            "text/plain": [
              "<Figure size 720x720 with 5 Axes>"
            ]
          },
          "metadata": {
            "tags": []
          }
        },
        {
          "output_type": "display_data",
          "data": {
            "image/png": "[encoded data removed]",
            "text/plain": [
              "<Figure size 720x720 with 5 Axes>"
            ]
          },
          "metadata": {
            "tags": []
          }
        },
        {
          "output_type": "display_data",
          "data": {
            "text/plain": [
              "<Figure size 432x288 with 0 Axes>"
            ]
          },
          "metadata": {
            "tags": []
          }
        }
      ]
    },
    {
      "cell_type": "code",
      "metadata": {
        "id": "CAWnhqb2N-Gn",
        "colab_type": "code",
        "outputId": "58e10e2c-96eb-47bb-9802-69ced6354d2c",
        "colab": {
          "base_uri": "https://localhost:8080/",
          "height": 171
        }
      },
      "source": [
        "# Calculating average SSIM and PSNR for 10000 samples of Salt and Pepper noised images \n",
        "\n",
        "ssim_aeSnP_mnist = 0\n",
        "ssim_aeSnP_mnist_list =[]\n",
        "psnr_aeSnP_mnist_list = []\n",
        "                       \n",
        "\n",
        "for i in range (len(x_test)):\n",
        "    ssim_aeSnP_mnist = measure.compare_ssim(x_pred_SnP[i], x_test[i],multichannel = True, win_size = None)\n",
        "    ssim_aeSnP_mnist_list.append(ssim_aeSnP_mnist)\n",
        "    psnr_aeSnP_mnist = measure.compare_psnr(x_test[i], x_pred_SnP[i])\n",
        "    psnr_aeSnP_mnist_list.append(psnr_aeSnP_mnist)\n",
        "\n",
        "print('SSIM of clean test images vs predicted denoised images') \n",
        "    \n",
        "print(np.sum(ssim_aeG_mnist_list)/len(ssim_aeG_mnist_list))\n",
        "print('PSNR of clean test images vs predicted denoised images') \n",
        "print(np.sum(psnr_aeG_mnist_list)/len(psnr_aeG_mnist_list))\n"
      ],
      "execution_count": 31,
      "outputs": [
        {
          "output_type": "stream",
          "text": [
            "/usr/local/lib/python3.6/dist-packages/ipykernel_launcher.py:8: UserWarning: DEPRECATED: skimage.measure.compare_ssim has been moved to skimage.metrics.structural_similarity. It will be removed from skimage.measure in version 0.18.\n",
            "  \n",
            "/usr/local/lib/python3.6/dist-packages/ipykernel_launcher.py:10: UserWarning: DEPRECATED: skimage.measure.compare_psnr has been moved to skimage.metrics.peak_signal_noise_ratio. It will be removed from skimage.measure in version 0.18.\n",
            "  # Remove the CWD from sys.path while we load stuff.\n"
          ],
          "name": "stderr"
        },
        {
          "output_type": "stream",
          "text": [
            "SSIM of clean test images vs predicted denoised images\n",
            "0.8630922519160813\n",
            "PSNR of clean test images vs predicted denoised images\n",
            "18.62476046800183\n"
          ],
          "name": "stdout"
        }
      ]
    },
    {
      "cell_type": "code",
      "metadata": {
        "id": "YTKoa0zjOWbn",
        "colab_type": "code",
        "colab": {}
      },
      "source": [
        ""
      ],
      "execution_count": 0,
      "outputs": []
    }
  ]
}